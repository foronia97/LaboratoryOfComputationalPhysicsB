{
 "cells": [
  {
   "cell_type": "markdown",
   "metadata": {},
   "source": [
    "# Exercise 2\n",
    "\n",
    "Look at data in the file “secreckeys_exe.csv”, which is placed in the google folder.\n",
    "\n",
    "1. Assuming that there is an invariance of the results with respect to shift of the digits in a data sample (e.g. 1234567 and 7123456 give the same result y=0 or y=1), try to improve the accuracy of the model over the validation data set by “augmenting” the data. In practice, for every sample there are L-1 equivalent ones.\n",
    "2. Implement a “grid search” as shown in NB11 to improve one or more of the aspects or parameters of the model. Possible tests include: different activation units (sigmoid, relu, elu, etc.), different minimization algorithms (adam, rmsprop, sgd with momentum, etc.), different dropouts, etc.\n",
    "3. See if any rescaling of data (x: the sequences of 0 and 1 used to feed the network) may improve the results."
   ]
  },
  {
   "cell_type": "code",
   "execution_count": 1,
   "metadata": {},
   "outputs": [
    {
     "name": "stdout",
     "output_type": "stream",
     "text": [
      "Dataset len: 3000\n",
      "Example: 4573627\n"
     ]
    }
   ],
   "source": [
    "import numpy as np\n",
    "\n",
    "# importing data\n",
    "fname = 'secretkeys_exe.csv'\n",
    "data = np.loadtxt(fname, delimiter=',', dtype=int)\n",
    "\n",
    "L = len(str(data[0,0])) # number of digits\n",
    "N = len(data)\n",
    "D = 9 # number of used digits (not the number of digits in a bit of the dataset)\n",
    "LD = L*D\n",
    "print('Dataset len: {}'.format(N))\n",
    "print('Example: {}'.format(data[0,0]))"
   ]
  },
  {
   "cell_type": "markdown",
   "metadata": {},
   "source": [
    "### Augmenting"
   ]
  },
  {
   "cell_type": "code",
   "execution_count": 2,
   "metadata": {},
   "outputs": [
    {
     "data": {
      "text/plain": [
       "array([5736274, 7362745, 3627457, 6274573, 2745736, 7457362])"
      ]
     },
     "execution_count": 2,
     "metadata": {},
     "output_type": "execute_result"
    }
   ],
   "source": [
    "def cal(num): \n",
    "    ''' function to return an array (dtype=int64) with left shift numbers '''\n",
    "    digit = L # number of digits from the dataset\n",
    "    powTen = pow(10, digit - 1) \n",
    "    res = [] \n",
    "    \n",
    "    for i in range(digit - 1): \n",
    "          \n",
    "        firstDigit = num // powTen \n",
    "          \n",
    "        # formula to calculate left shift  \n",
    "        # from previous number \n",
    "        left = (num * 10 + firstDigit - \n",
    "               (firstDigit * powTen * 10)) \n",
    "        res.append(left)\n",
    "        \n",
    "        # Update the original number \n",
    "        num = left \n",
    "        \n",
    "    return np.array(res, dtype=int)\n",
    "\n",
    "cal(data[0,0])"
   ]
  },
  {
   "cell_type": "code",
   "execution_count": 3,
   "metadata": {},
   "outputs": [
    {
     "name": "stdout",
     "output_type": "stream",
     "text": [
      "New dimention of training data, after augmentation: (21000, 2)\n"
     ]
    }
   ],
   "source": [
    "# Increasing data_training with Augmenting\n",
    "\n",
    "data_train_aug = np.copy(data)\n",
    "\n",
    "for i in range(len(data)):\n",
    "    lab = data[i,1]\n",
    "    val = data[i,0]\n",
    "    shift_val = cal(val).reshape(L-1,1) # array of L-1 shifted numbers, then reshaped\n",
    "    temp = np.hstack((shift_val,[[lab] for _ in range(L-1)])) # shape -> (L-1,2)\n",
    "    \n",
    "    data_train_aug = np.concatenate((data_train_aug,temp)) # attaching new data\n",
    "    \n",
    "N_train_aug = data_train_aug.shape\n",
    "print('New dimention of training data, after augmentation: {}'.format(N_train_aug))\n",
    "\n",
    "\n",
    "# Divide data in x and labels y\n",
    "x = np.copy(data_train_aug[:,0]) # copy to avoid views (remember: slices returns views not copies)\n",
    "y = np.copy(data_train_aug[:,1])"
   ]
  },
  {
   "cell_type": "code",
   "execution_count": 4,
   "metadata": {},
   "outputs": [
    {
     "name": "stdout",
     "output_type": "stream",
     "text": [
      "Comparison: 4573627 ---> [0, 0, 0, 1, 0, 0, 0, 0, 0, 0, 0, 0, 0, 1, 0, 0, 0, 0, 0, 0, 0, 0, 0, 0, 1, 0, 0, 0, 0, 1, 0, 0, 0, 0, 0, 0, 0, 0, 0, 0, 0, 1, 0, 0, 0, 0, 1, 0, 0, 0, 0, 0, 0, 0, 0, 0, 0, 0, 0, 0, 1, 0, 0]\n"
     ]
    }
   ],
   "source": [
    "# Expanding data to give to the DNN \n",
    "def expand(S):\n",
    "    '''\n",
    "    Returns a data point 'expanded', i.e. for each int in S\n",
    "    we expand it in a series of 0 and 1. \n",
    "    E.g. if S = 6 and D = 9 --> returns 000001000 \n",
    "    See Baiesi's lesson\n",
    "    '''\n",
    "    if (len(str(S))!=L):\n",
    "        raise('mismatch! len(S) must be = to L')\n",
    "    \n",
    "    x = [0] * LD # note: LD is global\n",
    "    p = 10**(L-1)\n",
    "    j = 0\n",
    "    for j in range(L):\n",
    "        q = int(S/p) # first digit\n",
    "        # 1...9 -> 0...8 Hence we need to use q-1\n",
    "        x[j*D + (q-1)] = 1\n",
    "        S -= q*p\n",
    "        p = p//10\n",
    "    return x\n",
    "\n",
    "# Defining dataset with 'expanded format'\n",
    "x_all = [None] * N_train_aug[0]\n",
    "for i in range(N_train_aug[0]):\n",
    "    x_all[i] = expand(x[i])\n",
    "print('Comparison: {} ---> {}'.format(x[0],x_all[0]))\n",
    "\n",
    "# convertion to numpy array for keras\n",
    "x_all = np.array(x_all)"
   ]
  },
  {
   "cell_type": "markdown",
   "metadata": {},
   "source": [
    "### Building the DNN\n",
    "The procedure follows the one from the 11th NB of the review"
   ]
  },
  {
   "cell_type": "code",
   "execution_count": 5,
   "metadata": {},
   "outputs": [
    {
     "name": "stderr",
     "output_type": "stream",
     "text": [
      "Using TensorFlow backend.\n"
     ]
    }
   ],
   "source": [
    "from keras.models import Sequential\n",
    "from keras.layers import Dense, Dropout, Flatten\n",
    "from keras.layers import Conv2D, MaxPooling2D\n",
    "import keras.optimizers\n",
    "\n",
    "\n",
    "# Initializing the model with the hyperparameters that will be\n",
    "# optimized using the GridSearchCV method\n",
    "def create_model(activation='relu', optimizer=keras.optimizers.Adam(), dropout_rate=0.2):\n",
    "    ''' \n",
    "    Returns a Sequential() object already initialized \n",
    "    and compiled.\n",
    "    It accept data with lenght D*L = DL\n",
    "    '''\n",
    "    \n",
    "    # instantiate model\n",
    "    model = Sequential()\n",
    "    \n",
    "    # add a dense all-to-all relu layer\n",
    "    model.add( Dense(LD, input_shape=(LD,), activation = activation) )\n",
    "    model.add( Dense(max(10,LD//2), activation = activation) )\n",
    "    model.add( Dense(max(6,LD//4), activation = activation) )\n",
    "    model.add( Dropout(dropout_rate) ) \n",
    "    \n",
    "    model.add( Dense(1, activation = 'sigmoid') )\n",
    "    \n",
    "    # compile the model\n",
    "    model.compile( loss='binary_crossentropy', \n",
    "                    optimizer = optimizer,\n",
    "                    metrics = ['accuracy'])\n",
    "    \n",
    "    return model"
   ]
  },
  {
   "cell_type": "markdown",
   "metadata": {},
   "source": [
    "### Training pre-GridSearch\n",
    "Training before the hyperparameters optimization with `GridSearchCV`"
   ]
  },
  {
   "cell_type": "code",
   "execution_count": 6,
   "metadata": {
    "collapsed": true,
    "jupyter": {
     "outputs_hidden": true
    }
   },
   "outputs": [
    {
     "name": "stdout",
     "output_type": "stream",
     "text": [
      "Train on 17850 samples, validate on 3150 samples\n",
      "Epoch 1/20\n",
      "17850/17850 [==============================] - 2s 85us/step - loss: 0.4986 - accuracy: 0.7650 - val_loss: 0.4332 - val_accuracy: 0.7937\n",
      "Epoch 2/20\n",
      "17850/17850 [==============================] - 1s 46us/step - loss: 0.3457 - accuracy: 0.8402 - val_loss: 0.2801 - val_accuracy: 0.8654\n",
      "Epoch 3/20\n",
      "17850/17850 [==============================] - 1s 42us/step - loss: 0.2243 - accuracy: 0.9016 - val_loss: 0.2144 - val_accuracy: 0.9054\n",
      "Epoch 4/20\n",
      "17850/17850 [==============================] - 1s 69us/step - loss: 0.1788 - accuracy: 0.9231 - val_loss: 0.2024 - val_accuracy: 0.9076\n",
      "Epoch 5/20\n",
      "17850/17850 [==============================] - 1s 57us/step - loss: 0.1622 - accuracy: 0.9319 - val_loss: 0.1988 - val_accuracy: 0.9124\n",
      "Epoch 6/20\n",
      "17850/17850 [==============================] - 1s 76us/step - loss: 0.1512 - accuracy: 0.9375 - val_loss: 0.1897 - val_accuracy: 0.9140\n",
      "Epoch 7/20\n",
      "17850/17850 [==============================] - 1s 38us/step - loss: 0.1471 - accuracy: 0.9385 - val_loss: 0.1871 - val_accuracy: 0.9200\n",
      "Epoch 8/20\n",
      "17850/17850 [==============================] - 1s 31us/step - loss: 0.1382 - accuracy: 0.9418 - val_loss: 0.1993 - val_accuracy: 0.9133\n",
      "Epoch 9/20\n",
      "17850/17850 [==============================] - 1s 29us/step - loss: 0.1342 - accuracy: 0.9456 - val_loss: 0.2156 - val_accuracy: 0.9083\n",
      "Epoch 10/20\n",
      "17850/17850 [==============================] - 1s 31us/step - loss: 0.1318 - accuracy: 0.9472 - val_loss: 0.2174 - val_accuracy: 0.9060\n",
      "Epoch 11/20\n",
      "17850/17850 [==============================] - 1s 40us/step - loss: 0.1235 - accuracy: 0.9511 - val_loss: 0.2253 - val_accuracy: 0.9089\n",
      "Epoch 12/20\n",
      "17850/17850 [==============================] - 1s 29us/step - loss: 0.1208 - accuracy: 0.9517 - val_loss: 0.2194 - val_accuracy: 0.9102\n",
      "Epoch 13/20\n",
      "17850/17850 [==============================] - 1s 30us/step - loss: 0.1160 - accuracy: 0.9539 - val_loss: 0.2481 - val_accuracy: 0.9019\n",
      "Epoch 14/20\n",
      "17850/17850 [==============================] - 1s 30us/step - loss: 0.1139 - accuracy: 0.9547 - val_loss: 0.2234 - val_accuracy: 0.9095\n",
      "Epoch 15/20\n",
      "17850/17850 [==============================] - 1s 29us/step - loss: 0.1088 - accuracy: 0.9579 - val_loss: 0.2616 - val_accuracy: 0.9019\n",
      "Epoch 16/20\n",
      "17850/17850 [==============================] - 1s 30us/step - loss: 0.1064 - accuracy: 0.9586 - val_loss: 0.2207 - val_accuracy: 0.9159\n",
      "Epoch 17/20\n",
      "17850/17850 [==============================] - 1s 29us/step - loss: 0.1056 - accuracy: 0.9590 - val_loss: 0.2607 - val_accuracy: 0.9029\n",
      "Epoch 18/20\n",
      "17850/17850 [==============================] - 1s 30us/step - loss: 0.1006 - accuracy: 0.9617 - val_loss: 0.2831 - val_accuracy: 0.8975\n",
      "Epoch 19/20\n",
      "17850/17850 [==============================] - 1s 29us/step - loss: 0.0975 - accuracy: 0.9629 - val_loss: 0.2739 - val_accuracy: 0.9038\n",
      "Epoch 20/20\n",
      "17850/17850 [==============================] - 1s 29us/step - loss: 0.0945 - accuracy: 0.9628 - val_loss: 0.2971 - val_accuracy: 0.9038\n"
     ]
    }
   ],
   "source": [
    "# First, we select the validation fraction of data used by\n",
    "# the Fit method\n",
    "validation_frac = 0.15 # validation fraction\n",
    "N_val = int(len(x_all)*validation_frac)\n",
    "\n",
    "batch_size = 40\n",
    "\n",
    "dnn = create_model()\n",
    "fit = dnn.fit( x_all[N_val:], y[N_val:], \n",
    "                epochs = 20, batch_size = batch_size,\n",
    "                validation_data=( x_all[0:N_val], y[0:N_val] ))"
   ]
  },
  {
   "cell_type": "code",
   "execution_count": 7,
   "metadata": {},
   "outputs": [
    {
     "data": {
      "text/plain": [
       "<matplotlib.legend.Legend at 0x7f69cd203850>"
      ]
     },
     "execution_count": 7,
     "metadata": {},
     "output_type": "execute_result"
    },
    {
     "data": {
      "image/png": "[encoded data removed]",
      "text/plain": [
       "<Figure size 432x288 with 1 Axes>"
      ]
     },
     "metadata": {
      "needs_background": "light"
     },
     "output_type": "display_data"
    },
    {
     "data": {
      "image/png": "[encoded data removed]",
      "text/plain": [
       "<Figure size 432x288 with 1 Axes>"
      ]
     },
     "metadata": {
      "needs_background": "light"
     },
     "output_type": "display_data"
    }
   ],
   "source": [
    "# Visual representation\n",
    "import matplotlib.pyplot as plt\n",
    "%matplotlib inline\n",
    "\n",
    "# Accuracy for train and test (which is the validation)\n",
    "# Here we use fit.history object\n",
    "plt.plot(fit.history['accuracy']) # this is on training data\n",
    "plt.plot(fit.history['val_accuracy']) # this is on validation data\n",
    "plt.title('Model accuracy')\n",
    "plt.ylabel('Accuracy')\n",
    "plt.xlabel('Epochs')\n",
    "plt.legend(['Train','Validation'])\n",
    "\n",
    "plt.figure()\n",
    "# Loss (i.e. plotting the cross entropy)\n",
    "plt.plot(fit.history['loss'])\n",
    "plt.plot(fit.history['val_loss'])\n",
    "plt.title('Model loss')\n",
    "plt.ylabel('loss')\n",
    "plt.xlabel('Epochs')\n",
    "plt.legend(['Train','Validation'])"
   ]
  },
  {
   "cell_type": "markdown",
   "metadata": {},
   "source": [
    "### GridSearch\n",
    "\n",
    "*Hyper-parameters*: a hyperparameter is a parameter whose value is set before the learning process begins. By contrast, the values of other parameters are derived via training.\n",
    "\n",
    "Hyperparameters can be classified as *model* hyperparameters, that cannot be inferred while fitting the machine to the training set because they refer to the model selection task, or *algorithm* hyperparameters, that in principle have no influence on the performance of the model but affect the speed and quality of the learning process. An example of the first type is the topology and size of a neural network. An example of the second type is learning rate or mini-batch size.\n",
    "\n",
    "Based on the following [article](https://machinelearningmastery.com/grid-search-hyperparameters-deep-learning-models-python-keras/) "
   ]
  },
  {
   "cell_type": "code",
   "execution_count": 8,
   "metadata": {},
   "outputs": [],
   "source": [
    "from sklearn.model_selection import GridSearchCV\n",
    "from keras.wrappers.scikit_learn import KerasClassifier"
   ]
  },
  {
   "cell_type": "markdown",
   "metadata": {},
   "source": [
    "We're testing the training for the following hyperparameters:\n",
    "* Optimizer algorithm\n",
    "* Activation unit (non-linear function for each neuron)\n",
    "* Dropout fraction"
   ]
  },
  {
   "cell_type": "code",
   "execution_count": 9,
   "metadata": {
    "collapsed": true,
    "jupyter": {
     "outputs_hidden": true
    }
   },
   "outputs": [
    {
     "name": "stdout",
     "output_type": "stream",
     "text": [
      "WARNING:tensorflow:Large dropout rate: 0.6 (>0.5). In TensorFlow 2.x, dropout() uses dropout rate instead of keep_prob. Please ensure that this is intended.\n",
      "WARNING:tensorflow:Large dropout rate: 0.6 (>0.5). In TensorFlow 2.x, dropout() uses dropout rate instead of keep_prob. Please ensure that this is intended.\n",
      "WARNING:tensorflow:Large dropout rate: 0.6 (>0.5). In TensorFlow 2.x, dropout() uses dropout rate instead of keep_prob. Please ensure that this is intended.\n",
      "WARNING:tensorflow:Large dropout rate: 0.6 (>0.5). In TensorFlow 2.x, dropout() uses dropout rate instead of keep_prob. Please ensure that this is intended.\n",
      "WARNING:tensorflow:Large dropout rate: 0.6 (>0.5). In TensorFlow 2.x, dropout() uses dropout rate instead of keep_prob. Please ensure that this is intended.\n",
      "Best: 0.8420476317405701 using {'activation': 'relu', 'dropout_rate': 0.0, 'optimizer': 'Nadam'}\n",
      "0.7560 (+- 0.0048) with: {'activation': 'softmax', 'dropout_rate': 0.0, 'optimizer': 'SGD'}\n",
      "0.7560 (+- 0.0048) with: {'activation': 'softmax', 'dropout_rate': 0.0, 'optimizer': 'RMSprop'}\n",
      "0.7560 (+- 0.0048) with: {'activation': 'softmax', 'dropout_rate': 0.0, 'optimizer': 'Adam'}\n",
      "0.7560 (+- 0.0048) with: {'activation': 'softmax', 'dropout_rate': 0.0, 'optimizer': 'Adamax'}\n",
      "0.7560 (+- 0.0048) with: {'activation': 'softmax', 'dropout_rate': 0.0, 'optimizer': 'Nadam'}\n",
      "0.7560 (+- 0.0048) with: {'activation': 'softmax', 'dropout_rate': 0.2, 'optimizer': 'SGD'}\n",
      "0.7560 (+- 0.0048) with: {'activation': 'softmax', 'dropout_rate': 0.2, 'optimizer': 'RMSprop'}\n",
      "0.7560 (+- 0.0048) with: {'activation': 'softmax', 'dropout_rate': 0.2, 'optimizer': 'Adam'}\n",
      "0.7560 (+- 0.0048) with: {'activation': 'softmax', 'dropout_rate': 0.2, 'optimizer': 'Adamax'}\n",
      "0.7560 (+- 0.0048) with: {'activation': 'softmax', 'dropout_rate': 0.2, 'optimizer': 'Nadam'}\n",
      "0.7560 (+- 0.0048) with: {'activation': 'softmax', 'dropout_rate': 0.4, 'optimizer': 'SGD'}\n",
      "0.7560 (+- 0.0048) with: {'activation': 'softmax', 'dropout_rate': 0.4, 'optimizer': 'RMSprop'}\n",
      "0.7560 (+- 0.0048) with: {'activation': 'softmax', 'dropout_rate': 0.4, 'optimizer': 'Adam'}\n",
      "0.7560 (+- 0.0048) with: {'activation': 'softmax', 'dropout_rate': 0.4, 'optimizer': 'Adamax'}\n",
      "0.7560 (+- 0.0048) with: {'activation': 'softmax', 'dropout_rate': 0.4, 'optimizer': 'Nadam'}\n",
      "0.7560 (+- 0.0048) with: {'activation': 'softmax', 'dropout_rate': 0.6, 'optimizer': 'SGD'}\n",
      "0.7560 (+- 0.0048) with: {'activation': 'softmax', 'dropout_rate': 0.6, 'optimizer': 'RMSprop'}\n",
      "0.7560 (+- 0.0048) with: {'activation': 'softmax', 'dropout_rate': 0.6, 'optimizer': 'Adam'}\n",
      "0.7560 (+- 0.0048) with: {'activation': 'softmax', 'dropout_rate': 0.6, 'optimizer': 'Adamax'}\n",
      "0.7560 (+- 0.0048) with: {'activation': 'softmax', 'dropout_rate': 0.6, 'optimizer': 'Nadam'}\n",
      "0.7560 (+- 0.0048) with: {'activation': 'softmax', 'dropout_rate': 0.8, 'optimizer': 'SGD'}\n",
      "0.7560 (+- 0.0048) with: {'activation': 'softmax', 'dropout_rate': 0.8, 'optimizer': 'RMSprop'}\n",
      "0.7560 (+- 0.0048) with: {'activation': 'softmax', 'dropout_rate': 0.8, 'optimizer': 'Adam'}\n",
      "0.7560 (+- 0.0048) with: {'activation': 'softmax', 'dropout_rate': 0.8, 'optimizer': 'Adamax'}\n",
      "0.7560 (+- 0.0048) with: {'activation': 'softmax', 'dropout_rate': 0.8, 'optimizer': 'Nadam'}\n",
      "0.7560 (+- 0.0048) with: {'activation': 'softplus', 'dropout_rate': 0.0, 'optimizer': 'SGD'}\n",
      "0.7665 (+- 0.0072) with: {'activation': 'softplus', 'dropout_rate': 0.0, 'optimizer': 'RMSprop'}\n",
      "0.7648 (+- 0.0083) with: {'activation': 'softplus', 'dropout_rate': 0.0, 'optimizer': 'Adam'}\n",
      "0.7567 (+- 0.0046) with: {'activation': 'softplus', 'dropout_rate': 0.0, 'optimizer': 'Adamax'}\n",
      "0.7686 (+- 0.0068) with: {'activation': 'softplus', 'dropout_rate': 0.0, 'optimizer': 'Nadam'}\n",
      "0.7560 (+- 0.0048) with: {'activation': 'softplus', 'dropout_rate': 0.2, 'optimizer': 'SGD'}\n",
      "0.7643 (+- 0.0098) with: {'activation': 'softplus', 'dropout_rate': 0.2, 'optimizer': 'RMSprop'}\n",
      "0.7642 (+- 0.0104) with: {'activation': 'softplus', 'dropout_rate': 0.2, 'optimizer': 'Adam'}\n",
      "0.7595 (+- 0.0040) with: {'activation': 'softplus', 'dropout_rate': 0.2, 'optimizer': 'Adamax'}\n",
      "0.7662 (+- 0.0077) with: {'activation': 'softplus', 'dropout_rate': 0.2, 'optimizer': 'Nadam'}\n",
      "0.7560 (+- 0.0048) with: {'activation': 'softplus', 'dropout_rate': 0.4, 'optimizer': 'SGD'}\n",
      "0.7624 (+- 0.0081) with: {'activation': 'softplus', 'dropout_rate': 0.4, 'optimizer': 'RMSprop'}\n",
      "0.7583 (+- 0.0079) with: {'activation': 'softplus', 'dropout_rate': 0.4, 'optimizer': 'Adam'}\n",
      "0.7560 (+- 0.0048) with: {'activation': 'softplus', 'dropout_rate': 0.4, 'optimizer': 'Adamax'}\n",
      "0.7656 (+- 0.0068) with: {'activation': 'softplus', 'dropout_rate': 0.4, 'optimizer': 'Nadam'}\n",
      "0.7560 (+- 0.0048) with: {'activation': 'softplus', 'dropout_rate': 0.6, 'optimizer': 'SGD'}\n",
      "0.7560 (+- 0.0048) with: {'activation': 'softplus', 'dropout_rate': 0.6, 'optimizer': 'RMSprop'}\n",
      "0.7560 (+- 0.0048) with: {'activation': 'softplus', 'dropout_rate': 0.6, 'optimizer': 'Adam'}\n",
      "0.7560 (+- 0.0048) with: {'activation': 'softplus', 'dropout_rate': 0.6, 'optimizer': 'Adamax'}\n",
      "0.7580 (+- 0.0064) with: {'activation': 'softplus', 'dropout_rate': 0.6, 'optimizer': 'Nadam'}\n",
      "0.7560 (+- 0.0048) with: {'activation': 'softplus', 'dropout_rate': 0.8, 'optimizer': 'SGD'}\n",
      "0.7560 (+- 0.0048) with: {'activation': 'softplus', 'dropout_rate': 0.8, 'optimizer': 'RMSprop'}\n",
      "0.7560 (+- 0.0048) with: {'activation': 'softplus', 'dropout_rate': 0.8, 'optimizer': 'Adam'}\n",
      "0.7560 (+- 0.0048) with: {'activation': 'softplus', 'dropout_rate': 0.8, 'optimizer': 'Adamax'}\n",
      "0.7560 (+- 0.0048) with: {'activation': 'softplus', 'dropout_rate': 0.8, 'optimizer': 'Nadam'}\n",
      "0.7560 (+- 0.0048) with: {'activation': 'softsign', 'dropout_rate': 0.0, 'optimizer': 'SGD'}\n",
      "0.7666 (+- 0.0064) with: {'activation': 'softsign', 'dropout_rate': 0.0, 'optimizer': 'RMSprop'}\n",
      "0.7669 (+- 0.0062) with: {'activation': 'softsign', 'dropout_rate': 0.0, 'optimizer': 'Adam'}\n",
      "0.7639 (+- 0.0049) with: {'activation': 'softsign', 'dropout_rate': 0.0, 'optimizer': 'Adamax'}\n",
      "0.7720 (+- 0.0056) with: {'activation': 'softsign', 'dropout_rate': 0.0, 'optimizer': 'Nadam'}\n",
      "0.7560 (+- 0.0048) with: {'activation': 'softsign', 'dropout_rate': 0.2, 'optimizer': 'SGD'}\n",
      "0.7667 (+- 0.0094) with: {'activation': 'softsign', 'dropout_rate': 0.2, 'optimizer': 'RMSprop'}\n",
      "0.7657 (+- 0.0064) with: {'activation': 'softsign', 'dropout_rate': 0.2, 'optimizer': 'Adam'}\n",
      "0.7657 (+- 0.0079) with: {'activation': 'softsign', 'dropout_rate': 0.2, 'optimizer': 'Adamax'}\n",
      "0.7703 (+- 0.0060) with: {'activation': 'softsign', 'dropout_rate': 0.2, 'optimizer': 'Nadam'}\n",
      "0.7560 (+- 0.0048) with: {'activation': 'softsign', 'dropout_rate': 0.4, 'optimizer': 'SGD'}\n",
      "0.7672 (+- 0.0085) with: {'activation': 'softsign', 'dropout_rate': 0.4, 'optimizer': 'RMSprop'}\n",
      "0.7681 (+- 0.0071) with: {'activation': 'softsign', 'dropout_rate': 0.4, 'optimizer': 'Adam'}\n",
      "0.7643 (+- 0.0053) with: {'activation': 'softsign', 'dropout_rate': 0.4, 'optimizer': 'Adamax'}\n",
      "0.7691 (+- 0.0073) with: {'activation': 'softsign', 'dropout_rate': 0.4, 'optimizer': 'Nadam'}\n",
      "0.7560 (+- 0.0048) with: {'activation': 'softsign', 'dropout_rate': 0.6, 'optimizer': 'SGD'}\n",
      "0.7674 (+- 0.0085) with: {'activation': 'softsign', 'dropout_rate': 0.6, 'optimizer': 'RMSprop'}\n",
      "0.7659 (+- 0.0078) with: {'activation': 'softsign', 'dropout_rate': 0.6, 'optimizer': 'Adam'}\n",
      "0.7676 (+- 0.0075) with: {'activation': 'softsign', 'dropout_rate': 0.6, 'optimizer': 'Adamax'}\n",
      "0.7667 (+- 0.0074) with: {'activation': 'softsign', 'dropout_rate': 0.6, 'optimizer': 'Nadam'}\n",
      "0.7560 (+- 0.0048) with: {'activation': 'softsign', 'dropout_rate': 0.8, 'optimizer': 'SGD'}\n",
      "0.7647 (+- 0.0080) with: {'activation': 'softsign', 'dropout_rate': 0.8, 'optimizer': 'RMSprop'}\n",
      "0.7654 (+- 0.0064) with: {'activation': 'softsign', 'dropout_rate': 0.8, 'optimizer': 'Adam'}\n",
      "0.7648 (+- 0.0079) with: {'activation': 'softsign', 'dropout_rate': 0.8, 'optimizer': 'Adamax'}\n",
      "0.7655 (+- 0.0061) with: {'activation': 'softsign', 'dropout_rate': 0.8, 'optimizer': 'Nadam'}\n",
      "0.7560 (+- 0.0048) with: {'activation': 'relu', 'dropout_rate': 0.0, 'optimizer': 'SGD'}\n",
      "0.7870 (+- 0.0057) with: {'activation': 'relu', 'dropout_rate': 0.0, 'optimizer': 'RMSprop'}\n",
      "0.7889 (+- 0.0064) with: {'activation': 'relu', 'dropout_rate': 0.0, 'optimizer': 'Adam'}\n",
      "0.7720 (+- 0.0102) with: {'activation': 'relu', 'dropout_rate': 0.0, 'optimizer': 'Adamax'}\n",
      "0.8420 (+- 0.0039) with: {'activation': 'relu', 'dropout_rate': 0.0, 'optimizer': 'Nadam'}\n",
      "0.7560 (+- 0.0048) with: {'activation': 'relu', 'dropout_rate': 0.2, 'optimizer': 'SGD'}\n",
      "0.7837 (+- 0.0063) with: {'activation': 'relu', 'dropout_rate': 0.2, 'optimizer': 'RMSprop'}\n",
      "0.7838 (+- 0.0072) with: {'activation': 'relu', 'dropout_rate': 0.2, 'optimizer': 'Adam'}\n",
      "0.7654 (+- 0.0022) with: {'activation': 'relu', 'dropout_rate': 0.2, 'optimizer': 'Adamax'}\n",
      "0.8268 (+- 0.0082) with: {'activation': 'relu', 'dropout_rate': 0.2, 'optimizer': 'Nadam'}\n",
      "0.7560 (+- 0.0048) with: {'activation': 'relu', 'dropout_rate': 0.4, 'optimizer': 'SGD'}\n",
      "0.7660 (+- 0.0048) with: {'activation': 'relu', 'dropout_rate': 0.4, 'optimizer': 'RMSprop'}\n",
      "0.7779 (+- 0.0045) with: {'activation': 'relu', 'dropout_rate': 0.4, 'optimizer': 'Adam'}\n",
      "0.7590 (+- 0.0075) with: {'activation': 'relu', 'dropout_rate': 0.4, 'optimizer': 'Adamax'}\n",
      "0.8130 (+- 0.0115) with: {'activation': 'relu', 'dropout_rate': 0.4, 'optimizer': 'Nadam'}\n",
      "0.7560 (+- 0.0048) with: {'activation': 'relu', 'dropout_rate': 0.6, 'optimizer': 'SGD'}\n",
      "0.7618 (+- 0.0128) with: {'activation': 'relu', 'dropout_rate': 0.6, 'optimizer': 'RMSprop'}\n",
      "0.7676 (+- 0.0135) with: {'activation': 'relu', 'dropout_rate': 0.6, 'optimizer': 'Adam'}\n",
      "0.7565 (+- 0.0054) with: {'activation': 'relu', 'dropout_rate': 0.6, 'optimizer': 'Adamax'}\n",
      "0.7936 (+- 0.0137) with: {'activation': 'relu', 'dropout_rate': 0.6, 'optimizer': 'Nadam'}\n",
      "0.7560 (+- 0.0048) with: {'activation': 'relu', 'dropout_rate': 0.8, 'optimizer': 'SGD'}\n",
      "0.7560 (+- 0.0048) with: {'activation': 'relu', 'dropout_rate': 0.8, 'optimizer': 'RMSprop'}\n",
      "0.7562 (+- 0.0046) with: {'activation': 'relu', 'dropout_rate': 0.8, 'optimizer': 'Adam'}\n",
      "0.7560 (+- 0.0048) with: {'activation': 'relu', 'dropout_rate': 0.8, 'optimizer': 'Adamax'}\n",
      "0.7561 (+- 0.0048) with: {'activation': 'relu', 'dropout_rate': 0.8, 'optimizer': 'Nadam'}\n",
      "0.7566 (+- 0.0051) with: {'activation': 'tanh', 'dropout_rate': 0.0, 'optimizer': 'SGD'}\n",
      "0.7670 (+- 0.0054) with: {'activation': 'tanh', 'dropout_rate': 0.0, 'optimizer': 'RMSprop'}\n",
      "0.7673 (+- 0.0039) with: {'activation': 'tanh', 'dropout_rate': 0.0, 'optimizer': 'Adam'}\n",
      "0.7664 (+- 0.0088) with: {'activation': 'tanh', 'dropout_rate': 0.0, 'optimizer': 'Adamax'}\n",
      "0.7710 (+- 0.0102) with: {'activation': 'tanh', 'dropout_rate': 0.0, 'optimizer': 'Nadam'}\n",
      "0.7561 (+- 0.0049) with: {'activation': 'tanh', 'dropout_rate': 0.2, 'optimizer': 'SGD'}\n",
      "0.7670 (+- 0.0068) with: {'activation': 'tanh', 'dropout_rate': 0.2, 'optimizer': 'RMSprop'}\n",
      "0.7656 (+- 0.0082) with: {'activation': 'tanh', 'dropout_rate': 0.2, 'optimizer': 'Adam'}\n",
      "0.7677 (+- 0.0065) with: {'activation': 'tanh', 'dropout_rate': 0.2, 'optimizer': 'Adamax'}\n",
      "0.7693 (+- 0.0074) with: {'activation': 'tanh', 'dropout_rate': 0.2, 'optimizer': 'Nadam'}\n",
      "0.7561 (+- 0.0051) with: {'activation': 'tanh', 'dropout_rate': 0.4, 'optimizer': 'SGD'}\n",
      "0.7671 (+- 0.0046) with: {'activation': 'tanh', 'dropout_rate': 0.4, 'optimizer': 'RMSprop'}\n",
      "0.7647 (+- 0.0016) with: {'activation': 'tanh', 'dropout_rate': 0.4, 'optimizer': 'Adam'}\n",
      "0.7644 (+- 0.0050) with: {'activation': 'tanh', 'dropout_rate': 0.4, 'optimizer': 'Adamax'}\n",
      "0.7685 (+- 0.0075) with: {'activation': 'tanh', 'dropout_rate': 0.4, 'optimizer': 'Nadam'}\n",
      "0.7561 (+- 0.0048) with: {'activation': 'tanh', 'dropout_rate': 0.6, 'optimizer': 'SGD'}\n",
      "0.7638 (+- 0.0066) with: {'activation': 'tanh', 'dropout_rate': 0.6, 'optimizer': 'RMSprop'}\n",
      "0.7637 (+- 0.0067) with: {'activation': 'tanh', 'dropout_rate': 0.6, 'optimizer': 'Adam'}\n",
      "0.7660 (+- 0.0065) with: {'activation': 'tanh', 'dropout_rate': 0.6, 'optimizer': 'Adamax'}\n",
      "0.7657 (+- 0.0057) with: {'activation': 'tanh', 'dropout_rate': 0.6, 'optimizer': 'Nadam'}\n",
      "0.7562 (+- 0.0049) with: {'activation': 'tanh', 'dropout_rate': 0.8, 'optimizer': 'SGD'}\n",
      "0.7652 (+- 0.0046) with: {'activation': 'tanh', 'dropout_rate': 0.8, 'optimizer': 'RMSprop'}\n",
      "0.7650 (+- 0.0090) with: {'activation': 'tanh', 'dropout_rate': 0.8, 'optimizer': 'Adam'}\n",
      "0.7647 (+- 0.0077) with: {'activation': 'tanh', 'dropout_rate': 0.8, 'optimizer': 'Adamax'}\n",
      "0.7648 (+- 0.0096) with: {'activation': 'tanh', 'dropout_rate': 0.8, 'optimizer': 'Nadam'}\n"
     ]
    }
   ],
   "source": [
    "# NOTE: this cell train 375 models, and it takes approx 1 sec for each\n",
    "# Hence it takes 10 or so minutes to give results\n",
    "\n",
    "# Call Keras scikit wrapper\n",
    "model_gridsearch = KerasClassifier(build_fn=create_model, \n",
    "                        epochs=1, \n",
    "                        batch_size=batch_size, \n",
    "                        verbose=0)\n",
    "\n",
    "# List of allowed optional arguments for the optimizer, see `create_model()`\n",
    "optimizer = ['SGD', 'RMSprop', 'Adam', 'Adamax', 'Nadam']\n",
    "activation = ['softmax', 'softplus', 'softsign', 'relu', 'tanh']\n",
    "dropout_rate = [0.0, 0.2, 0.4, 0.6, 0.8]\n",
    "# define parameters' dictionary\n",
    "param_grid = dict(optimizer=optimizer, activation=activation, \n",
    "                  dropout_rate=dropout_rate) \n",
    "\n",
    "# Call scikit GridSearch module\n",
    "# n_jobs = number of threads to implement in the computation\n",
    "# cv = k in the k-fold cross-validation\n",
    "# the number of model tested is (# of hyperpar to test)*(k for the k-fold cross-val)\n",
    "grid = GridSearchCV(estimator = model_gridsearch, \n",
    "                    param_grid = param_grid, n_jobs=1, cv=3)\n",
    "grid_result = grid.fit(x_all,y)\n",
    "\n",
    "# Summarize results\n",
    "print(\"Best: {} using {}\".format(grid_result.best_score_, grid_result.best_params_) )\n",
    "means = grid_result.cv_results_['mean_test_score']\n",
    "stds = grid_result.cv_results_['std_test_score']\n",
    "params = grid_result.cv_results_['params']\n",
    "for mean, stdev, param in zip(means, stds, params):\n",
    "    print(\"{:.4f} (+- {:.4f}) with: {}\".format(mean, stdev, param))\n"
   ]
  },
  {
   "cell_type": "markdown",
   "metadata": {},
   "source": [
    "### Trainig post-GridSearch"
   ]
  },
  {
   "cell_type": "code",
   "execution_count": 10,
   "metadata": {
    "collapsed": true,
    "jupyter": {
     "outputs_hidden": true
    }
   },
   "outputs": [
    {
     "name": "stdout",
     "output_type": "stream",
     "text": [
      "Train on 17850 samples, validate on 3150 samples\n",
      "Epoch 1/20\n",
      "17850/17850 [==============================] - 1s 48us/step - loss: 0.4136 - accuracy: 0.8053 - val_loss: 0.4221 - val_accuracy: 0.8038\n",
      "Epoch 2/20\n",
      "17850/17850 [==============================] - 1s 38us/step - loss: 0.2019 - accuracy: 0.9106 - val_loss: 0.1972 - val_accuracy: 0.9133\n",
      "Epoch 3/20\n",
      "17850/17850 [==============================] - 1s 42us/step - loss: 0.1634 - accuracy: 0.9296 - val_loss: 0.1821 - val_accuracy: 0.9257\n",
      "Epoch 4/20\n",
      "17850/17850 [==============================] - 1s 34us/step - loss: 0.1518 - accuracy: 0.9347 - val_loss: 0.1830 - val_accuracy: 0.9235\n",
      "Epoch 5/20\n",
      "17850/17850 [==============================] - 1s 34us/step - loss: 0.1446 - accuracy: 0.9406 - val_loss: 0.1870 - val_accuracy: 0.9232\n",
      "Epoch 6/20\n",
      "17850/17850 [==============================] - 1s 54us/step - loss: 0.1380 - accuracy: 0.9417 - val_loss: 0.1962 - val_accuracy: 0.9133\n",
      "Epoch 7/20\n",
      "17850/17850 [==============================] - 1s 66us/step - loss: 0.1325 - accuracy: 0.9440 - val_loss: 0.2026 - val_accuracy: 0.9168\n",
      "Epoch 8/20\n",
      "17850/17850 [==============================] - 1s 36us/step - loss: 0.1286 - accuracy: 0.9475 - val_loss: 0.2101 - val_accuracy: 0.9165\n",
      "Epoch 9/20\n",
      "17850/17850 [==============================] - 1s 60us/step - loss: 0.1225 - accuracy: 0.9491 - val_loss: 0.2158 - val_accuracy: 0.9079\n",
      "Epoch 10/20\n",
      "17850/17850 [==============================] - 1s 43us/step - loss: 0.1163 - accuracy: 0.9527 - val_loss: 0.2205 - val_accuracy: 0.9089\n",
      "Epoch 11/20\n",
      "17850/17850 [==============================] - 1s 31us/step - loss: 0.1125 - accuracy: 0.9538 - val_loss: 0.2133 - val_accuracy: 0.9175\n",
      "Epoch 12/20\n",
      "17850/17850 [==============================] - 1s 29us/step - loss: 0.1079 - accuracy: 0.9571 - val_loss: 0.2252 - val_accuracy: 0.9098\n",
      "Epoch 13/20\n",
      "17850/17850 [==============================] - 1s 29us/step - loss: 0.1021 - accuracy: 0.9593 - val_loss: 0.2867 - val_accuracy: 0.8908\n",
      "Epoch 14/20\n",
      "17850/17850 [==============================] - 1s 40us/step - loss: 0.0972 - accuracy: 0.9633 - val_loss: 0.2540 - val_accuracy: 0.9117\n",
      "Epoch 15/20\n",
      "17850/17850 [==============================] - 1s 31us/step - loss: 0.0914 - accuracy: 0.9643 - val_loss: 0.2629 - val_accuracy: 0.9146\n",
      "Epoch 16/20\n",
      "17850/17850 [==============================] - 1s 30us/step - loss: 0.0915 - accuracy: 0.9631 - val_loss: 0.2777 - val_accuracy: 0.9067\n",
      "Epoch 17/20\n",
      "17850/17850 [==============================] - 1s 29us/step - loss: 0.0827 - accuracy: 0.9680 - val_loss: 0.2809 - val_accuracy: 0.9057\n",
      "Epoch 18/20\n",
      "17850/17850 [==============================] - 1s 29us/step - loss: 0.0794 - accuracy: 0.9692 - val_loss: 0.3089 - val_accuracy: 0.9133\n",
      "Epoch 19/20\n",
      "17850/17850 [==============================] - 1s 29us/step - loss: 0.0758 - accuracy: 0.9705 - val_loss: 0.3190 - val_accuracy: 0.9067\n",
      "Epoch 20/20\n",
      "17850/17850 [==============================] - 1s 30us/step - loss: 0.0718 - accuracy: 0.9716 - val_loss: 0.3926 - val_accuracy: 0.8905\n"
     ]
    }
   ],
   "source": [
    "# Training using the hyperparameters found by GridSearch\n",
    "\n",
    "dnn_post_grid = create_model(activation = 'relu',\n",
    "                            optimizer = keras.optimizers.Nadam(),\n",
    "                            dropout_rate = 0.0)\n",
    "\n",
    "fit_post_grid = dnn_post_grid.fit( x_all[N_val:], y[N_val:], \n",
    "                epochs = 20, batch_size = batch_size,\n",
    "                validation_data=( x_all[0:N_val], y[0:N_val] ))"
   ]
  },
  {
   "cell_type": "code",
   "execution_count": 11,
   "metadata": {},
   "outputs": [
    {
     "data": {
      "text/plain": [
       "<matplotlib.legend.Legend at 0x7f69960198d0>"
      ]
     },
     "execution_count": 11,
     "metadata": {},
     "output_type": "execute_result"
    },
    {
     "data": {
      "image/png": "[encoded data removed]",
      "text/plain": [
       "<Figure size 432x288 with 1 Axes>"
      ]
     },
     "metadata": {
      "needs_background": "light"
     },
     "output_type": "display_data"
    },
    {
     "data": {
      "image/png": "[encoded data removed]",
      "text/plain": [
       "<Figure size 432x288 with 1 Axes>"
      ]
     },
     "metadata": {
      "needs_background": "light"
     },
     "output_type": "display_data"
    }
   ],
   "source": [
    "# Here we perform a comparison between before and after the \n",
    "# hyperparameters optimization\n",
    "\n",
    "# Accuracy\n",
    "plt.plot(fit.history['accuracy']) # this is on training data\n",
    "plt.plot(fit.history['val_accuracy']) # this is on validation data\n",
    "plt.plot(fit_post_grid.history['accuracy']) # this is on training data\n",
    "plt.plot(fit_post_grid.history['val_accuracy']) # this is on validation data\n",
    "plt.title('Model accuracy')\n",
    "plt.ylabel('Accuracy')\n",
    "plt.xlabel('Epochs')\n",
    "plt.legend(['Train_pre','Val_pre','Train_post','Val_post'])\n",
    "\n",
    "# Loss (i.e. plotting the cross entropy)\n",
    "plt.figure()\n",
    "plt.plot(fit.history['loss']) # this is on training data\n",
    "plt.plot(fit.history['val_loss']) # this is on validation data\n",
    "plt.plot(fit_post_grid.history['loss'])\n",
    "plt.plot(fit_post_grid.history['val_loss'])\n",
    "plt.title('Model loss')\n",
    "plt.ylabel('loss')\n",
    "plt.xlabel('Epochs')\n",
    "plt.legend(['Train_pre','Val_pre','Train_post','Val_post'])"
   ]
  },
  {
   "cell_type": "markdown",
   "metadata": {},
   "source": [
    "Comment: it seems that the optimization of the hyperparameters bring to a similar result or even worst that the original evaluation looking at the loss term."
   ]
  }
 ],
 "metadata": {
  "kernelspec": {
   "display_name": "Python 3",
   "language": "python",
   "name": "python3"
  },
  "language_info": {
   "codemirror_mode": {
    "name": "ipython",
    "version": 3
   },
   "file_extension": ".py",
   "mimetype": "text/x-python",
   "name": "python",
   "nbconvert_exporter": "python",
   "pygments_lexer": "ipython3",
   "version": "3.7.6"
  }
 },
 "nbformat": 4,
 "nbformat_minor": 4
}
