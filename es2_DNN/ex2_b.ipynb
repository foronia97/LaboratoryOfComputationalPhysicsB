{
 "cells": [
  {
   "cell_type": "markdown",
   "metadata": {},
   "source": [
    "# Exercise 2\n",
    "\n",
    "Look at data in the file “secreckeys_exe.csv”, which is placed in the google folder.\n",
    "\n",
    "1. Assuming that there is an invariance of the results with respect to shift of the digits in a data sample (e.g. 1234567 and 7123456 give the same result y=0 or y=1), try to improve the accuracy of the model over the validation data set by “augmenting” the data. In practice, for every sample there are L-1 equivalent ones.\n",
    "2. Implement a “grid search” as shown in NB11 to improve one or more of the aspects or parameters of the model. Possible tests include: different activation units (sigmoid, relu, elu, etc.), different minimization algorithms (adam, rmsprop, sgd with momentum, etc.), different dropouts, etc.\n",
    "3. See if any rescaling of data (x: the sequences of 0 and 1 used to feed the network) may improve the results."
   ]
  },
  {
   "cell_type": "code",
   "execution_count": 5,
   "metadata": {},
   "outputs": [
    {
     "name": "stdout",
     "output_type": "stream",
     "text": [
      "Dataset len: 3000\n",
      "Example: 4573627\n"
     ]
    }
   ],
   "source": [
    "import numpy as np\n",
    "\n",
    "# importing data\n",
    "fname = 'secretkeys_exe.csv'\n",
    "data = np.loadtxt(fname, delimiter=',', dtype=int)\n",
    "\n",
    "L = len(str(data[0,0])) # number of digits\n",
    "N = len(data)\n",
    "D = 9 # number of used digits (not the number of digits in a bit of the dataset)\n",
    "LD = L*D\n",
    "print('Dataset len: {}'.format(N))\n",
    "print('Example: {}'.format(data[0,0]))\n",
    "\n",
    "# Dividing dataset in training set and test set\n",
    "train_per = 0.8\n",
    "data_train = data[0:int(N*train_per),:]\n",
    "data_test = data[int(N*train_per):,:] # this is to be used later on"
   ]
  },
  {
   "cell_type": "markdown",
   "metadata": {},
   "source": [
    "### Augmenting"
   ]
  },
  {
   "cell_type": "code",
   "execution_count": 6,
   "metadata": {},
   "outputs": [
    {
     "data": {
      "text/plain": [
       "array([5736274, 7362745, 3627457, 6274573, 2745736, 7457362])"
      ]
     },
     "execution_count": 6,
     "metadata": {},
     "output_type": "execute_result"
    }
   ],
   "source": [
    "def cal(num): \n",
    "    ''' function to return an array (dtype=int64) with left shift numbers '''\n",
    "    digit = L # number of digits from the dataset\n",
    "    powTen = pow(10, digit - 1) \n",
    "    res = [] \n",
    "    \n",
    "    for i in range(digit - 1): \n",
    "          \n",
    "        firstDigit = num // powTen \n",
    "          \n",
    "        # formula to calculate left shift  \n",
    "        # from previous number \n",
    "        left = (num * 10 + firstDigit - \n",
    "               (firstDigit * powTen * 10)) \n",
    "        res.append(left)\n",
    "        \n",
    "        # Update the original number \n",
    "        num = left \n",
    "        \n",
    "    return np.array(res, dtype=int)\n",
    "\n",
    "cal(data_train[0,0])"
   ]
  },
  {
   "cell_type": "code",
   "execution_count": 7,
   "metadata": {},
   "outputs": [
    {
     "name": "stdout",
     "output_type": "stream",
     "text": [
      "New dimention of training data, after augmentation: (16800, 2)\n"
     ]
    }
   ],
   "source": [
    "# Increasing data_training with Augmenting\n",
    "\n",
    "data_train_aug = np.copy(data_train)\n",
    "\n",
    "for i in range(len(data_train)):\n",
    "    lab = data_train[i,1]\n",
    "    val = data_train[i,0]\n",
    "    shift_val = cal(val).reshape(L-1,1) # array of L-1 shifted numbers, then reshaped\n",
    "    temp = np.hstack((shift_val,[[lab] for _ in range(L-1)])) # shape -> (L-1,2)\n",
    "    \n",
    "    data_train_aug = np.concatenate((data_train_aug,temp)) # attaching new data\n",
    "    \n",
    "N_train_aug = data_train_aug.shape\n",
    "print('New dimention of training data, after augmentation: {}'.format(N_train_aug))\n",
    "\n",
    "\n",
    "# Divide data in x and labels y\n",
    "x = np.copy(data_train_aug[:,0]) # copy to avoid views (remember: slices returns views not copies)\n",
    "y = np.copy(data_train_aug[:,1])"
   ]
  },
  {
   "cell_type": "code",
   "execution_count": 9,
   "metadata": {},
   "outputs": [
    {
     "name": "stdout",
     "output_type": "stream",
     "text": [
      "Comparison: 4573627 ---> [0, 0, 0, 1, 0, 0, 0, 0, 0, 0, 0, 0, 0, 1, 0, 0, 0, 0, 0, 0, 0, 0, 0, 0, 1, 0, 0, 0, 0, 1, 0, 0, 0, 0, 0, 0, 0, 0, 0, 0, 0, 1, 0, 0, 0, 0, 1, 0, 0, 0, 0, 0, 0, 0, 0, 0, 0, 0, 0, 0, 1, 0, 0]\n"
     ]
    }
   ],
   "source": [
    "# Expanding data to give to the DNN \n",
    "def expand(S):\n",
    "    '''\n",
    "    Returns a data point 'expanded', i.e. for each int in S\n",
    "    we expand it in a series of 0 and 1. \n",
    "    E.g. if S = 6 and D = 9 --> returns 000001000 \n",
    "    See Baiesi's lesson\n",
    "    '''\n",
    "    if (len(str(S))!=L):\n",
    "        raise('mismatch! len(S) must be = to L')\n",
    "    \n",
    "    x = [0] * LD # note: LD is global\n",
    "    p = 10**(L-1)\n",
    "    j = 0\n",
    "    for j in range(L):\n",
    "        q = int(S/p) # first digit\n",
    "        # 1...9 -> 0...8 Hence we need to use q-1\n",
    "        x[j*D + (q-1)] = 1\n",
    "        S -= q*p\n",
    "        p = p//10\n",
    "    return x\n",
    "\n",
    "# Defining dataset with 'expanded format'\n",
    "x_all = [None] * N_train_aug[0]\n",
    "for i in range(N_train_aug[0]):\n",
    "    x_all[i] = expand(x[i])\n",
    "print('Comparison: {} ---> {}'.format(x[0],x_all[0]))\n",
    "\n",
    "# convertion to numpy array for keras\n",
    "x_all = np.array(x_all)"
   ]
  },
  {
   "cell_type": "markdown",
   "metadata": {},
   "source": [
    "### Building the DNN\n",
    "The procedure follows the one from the 11th NB of the review"
   ]
  },
  {
   "cell_type": "code",
   "execution_count": 29,
   "metadata": {},
   "outputs": [],
   "source": [
    "from keras.models import Sequential\n",
    "from keras.layers import Dense, Dropout, Flatten\n",
    "from keras.layers import Conv2D, MaxPooling2D\n",
    "import keras.optimizers\n",
    "\n",
    "\n",
    "# Initializing the model with the hyperparameters that will be\n",
    "# optimized using the GridSearchCV method\n",
    "def create_model(activation='relu', optimizer=keras.optimizers.Adam(), dropout_rate=0.2):\n",
    "    ''' \n",
    "    Returns a Sequential() object already initialized \n",
    "    and compiled.\n",
    "    It accept data with lenght D*L = DL\n",
    "    '''\n",
    "    \n",
    "    # instantiate model\n",
    "    model = Sequential()\n",
    "    \n",
    "    # add a dense all-to-all relu layer\n",
    "    model.add( Dense(LD, input_shape=(LD,), activation = activation) )\n",
    "    model.add( Dense(max(10,LD//2), activation = activation) )\n",
    "    model.add( Dense(max(6,LD//4), activation = activation) )\n",
    "    model.add( Dropout(dropout_rate) ) \n",
    "    \n",
    "    model.add( Dense(1, activation = 'sigmoid') )\n",
    "    \n",
    "    # compile the model\n",
    "    model.compile( loss='binary_crossentropy', \n",
    "                    optimizer = optimizer,\n",
    "                    metrics = ['accuracy'])\n",
    "    \n",
    "    return model"
   ]
  },
  {
   "cell_type": "markdown",
   "metadata": {},
   "source": [
    "### Training pre-GridSearch\n",
    "Training before the hyperparameters optimization with `GridSearchCV`"
   ]
  },
  {
   "cell_type": "code",
   "execution_count": 16,
   "metadata": {
    "collapsed": true,
    "jupyter": {
     "outputs_hidden": true
    }
   },
   "outputs": [
    {
     "name": "stdout",
     "output_type": "stream",
     "text": [
      "Train on 14280 samples, validate on 2520 samples\n",
      "Epoch 1/20\n",
      "14280/14280 [==============================] - 1s 73us/step - loss: 0.5073 - accuracy: 0.7546 - val_loss: 0.4457 - val_accuracy: 0.7774\n",
      "Epoch 2/20\n",
      "14280/14280 [==============================] - 1s 68us/step - loss: 0.3946 - accuracy: 0.8159 - val_loss: 0.3141 - val_accuracy: 0.8500\n",
      "Epoch 3/20\n",
      "14280/14280 [==============================] - 2s 108us/step - loss: 0.2575 - accuracy: 0.8847 - val_loss: 0.2347 - val_accuracy: 0.8925\n",
      "Epoch 4/20\n",
      "14280/14280 [==============================] - 1s 65us/step - loss: 0.1926 - accuracy: 0.9183 - val_loss: 0.2448 - val_accuracy: 0.8857\n",
      "Epoch 5/20\n",
      "14280/14280 [==============================] - 1s 58us/step - loss: 0.1687 - accuracy: 0.9321 - val_loss: 0.2097 - val_accuracy: 0.8996\n",
      "Epoch 6/20\n",
      "14280/14280 [==============================] - 1s 55us/step - loss: 0.1520 - accuracy: 0.9382 - val_loss: 0.2030 - val_accuracy: 0.9060\n",
      "Epoch 7/20\n",
      "14280/14280 [==============================] - 1s 80us/step - loss: 0.1447 - accuracy: 0.9417 - val_loss: 0.2237 - val_accuracy: 0.8956\n",
      "Epoch 8/20\n",
      "14280/14280 [==============================] - 2s 171us/step - loss: 0.1362 - accuracy: 0.9450 - val_loss: 0.2165 - val_accuracy: 0.9087\n",
      "Epoch 9/20\n",
      "14280/14280 [==============================] - 3s 178us/step - loss: 0.1332 - accuracy: 0.9479 - val_loss: 0.2199 - val_accuracy: 0.9111\n",
      "Epoch 10/20\n",
      "14280/14280 [==============================] - 2s 124us/step - loss: 0.1264 - accuracy: 0.9501 - val_loss: 0.2316 - val_accuracy: 0.9052\n",
      "Epoch 11/20\n",
      "14280/14280 [==============================] - 1s 76us/step - loss: 0.1185 - accuracy: 0.9539 - val_loss: 0.2495 - val_accuracy: 0.9012\n",
      "Epoch 12/20\n",
      "14280/14280 [==============================] - 1s 68us/step - loss: 0.1136 - accuracy: 0.9553 - val_loss: 0.2355 - val_accuracy: 0.9075\n",
      "Epoch 13/20\n",
      "14280/14280 [==============================] - 1s 53us/step - loss: 0.1114 - accuracy: 0.9551 - val_loss: 0.2405 - val_accuracy: 0.9052\n",
      "Epoch 14/20\n",
      "14280/14280 [==============================] - 1s 54us/step - loss: 0.1060 - accuracy: 0.9602 - val_loss: 0.2786 - val_accuracy: 0.8972\n",
      "Epoch 15/20\n",
      "14280/14280 [==============================] - 1s 54us/step - loss: 0.1018 - accuracy: 0.9611 - val_loss: 0.2913 - val_accuracy: 0.8901\n",
      "Epoch 16/20\n",
      "14280/14280 [==============================] - 1s 53us/step - loss: 0.0958 - accuracy: 0.9646 - val_loss: 0.2826 - val_accuracy: 0.8960\n",
      "Epoch 17/20\n",
      "14280/14280 [==============================] - 1s 67us/step - loss: 0.0924 - accuracy: 0.9660 - val_loss: 0.2827 - val_accuracy: 0.9008\n",
      "Epoch 18/20\n",
      "14280/14280 [==============================] - 2s 124us/step - loss: 0.0908 - accuracy: 0.9665 - val_loss: 0.3156 - val_accuracy: 0.8944\n",
      "Epoch 19/20\n",
      "14280/14280 [==============================] - 2s 112us/step - loss: 0.0854 - accuracy: 0.9689 - val_loss: 0.2698 - val_accuracy: 0.9091\n",
      "Epoch 20/20\n",
      "14280/14280 [==============================] - 2s 119us/step - loss: 0.0800 - accuracy: 0.9704 - val_loss: 0.3072 - val_accuracy: 0.8976\n"
     ]
    }
   ],
   "source": [
    "# First, we select the validation fraction of data used by\n",
    "# the Fit method\n",
    "validation_frac = 0.15 # validation fraction\n",
    "N_val = int(len(x_all)*validation_frac)\n",
    "\n",
    "batch_size = 40\n",
    "\n",
    "dnn = create_model()\n",
    "fit = dnn.fit( x_all[N_val:], y[N_val:], \n",
    "                epochs = 20, batch_size = batch_size,\n",
    "                validation_data=( x_all[0:N_val], y[0:N_val] ))"
   ]
  },
  {
   "cell_type": "code",
   "execution_count": 17,
   "metadata": {},
   "outputs": [
    {
     "data": {
      "text/plain": [
       "<matplotlib.legend.Legend at 0x7f7c20778e10>"
      ]
     },
     "execution_count": 17,
     "metadata": {},
     "output_type": "execute_result"
    },
    {
     "data": {
      "image/png": "[encoded data removed]",
      "text/plain": [
       "<Figure size 432x288 with 1 Axes>"
      ]
     },
     "metadata": {
      "needs_background": "light"
     },
     "output_type": "display_data"
    },
    {
     "data": {
      "image/png": "[encoded data removed]",
      "text/plain": [
       "<Figure size 432x288 with 1 Axes>"
      ]
     },
     "metadata": {
      "needs_background": "light"
     },
     "output_type": "display_data"
    }
   ],
   "source": [
    "# Visual representation\n",
    "import matplotlib.pyplot as plt\n",
    "%matplotlib inline\n",
    "\n",
    "# Accuracy for train and test (which is the validation)\n",
    "# Here we use fit.history object\n",
    "plt.plot(fit.history['accuracy']) # this is on training data\n",
    "plt.plot(fit.history['val_accuracy']) # this is on validation data\n",
    "plt.title('Model accuracy')\n",
    "plt.ylabel('Accuracy')\n",
    "plt.xlabel('Epochs')\n",
    "plt.legend(['Train','Validation'])\n",
    "\n",
    "plt.figure()\n",
    "# Loss (i.e. plotting the cross entropy)\n",
    "plt.plot(fit.history['loss'])\n",
    "plt.plot(fit.history['val_loss'])\n",
    "plt.title('Model loss')\n",
    "plt.ylabel('loss')\n",
    "plt.xlabel('Epochs')\n",
    "plt.legend(['Train','Validation'])"
   ]
  },
  {
   "cell_type": "markdown",
   "metadata": {},
   "source": [
    "### GridSearch\n",
    "\n",
    "*Hyper-parameters*: a hyperparameter is a parameter whose value is set before the learning process begins. By contrast, the values of other parameters are derived via training.\n",
    "\n",
    "Hyperparameters can be classified as *model* hyperparameters, that cannot be inferred while fitting the machine to the training set because they refer to the model selection task, or *algorithm* hyperparameters, that in principle have no influence on the performance of the model but affect the speed and quality of the learning process. An example of the first type is the topology and size of a neural network. An example of the second type is learning rate or mini-batch size.\n",
    "\n",
    "Based on the following [article](https://machinelearningmastery.com/grid-search-hyperparameters-deep-learning-models-python-keras/) "
   ]
  },
  {
   "cell_type": "code",
   "execution_count": 21,
   "metadata": {},
   "outputs": [],
   "source": [
    "from sklearn.model_selection import GridSearchCV\n",
    "from keras.wrappers.scikit_learn import KerasClassifier"
   ]
  },
  {
   "cell_type": "markdown",
   "metadata": {},
   "source": [
    "We're testing the training for the following hyperparameters:\n",
    "* Optimizer algorithm\n",
    "* Activation unit (non-linear function for each neuron)\n",
    "* Dropout fraction"
   ]
  },
  {
   "cell_type": "code",
   "execution_count": 36,
   "metadata": {
    "collapsed": true,
    "jupyter": {
     "outputs_hidden": true
    }
   },
   "outputs": [
    {
     "name": "stdout",
     "output_type": "stream",
     "text": [
      "Best: 0.8136309583981832 using {'activation': 'relu', 'dropout_rate': 0.0, 'optimizer': 'Nadam'}\n",
      "0.7571 (+- 0.0136) with: {'activation': 'softmax', 'dropout_rate': 0.0, 'optimizer': 'SGD'}\n",
      "0.7571 (+- 0.0136) with: {'activation': 'softmax', 'dropout_rate': 0.0, 'optimizer': 'RMSprop'}\n",
      "0.7571 (+- 0.0136) with: {'activation': 'softmax', 'dropout_rate': 0.0, 'optimizer': 'Adam'}\n",
      "0.7571 (+- 0.0136) with: {'activation': 'softmax', 'dropout_rate': 0.0, 'optimizer': 'Adamax'}\n",
      "0.7571 (+- 0.0136) with: {'activation': 'softmax', 'dropout_rate': 0.0, 'optimizer': 'Nadam'}\n",
      "0.7571 (+- 0.0136) with: {'activation': 'softmax', 'dropout_rate': 0.2, 'optimizer': 'SGD'}\n",
      "0.7571 (+- 0.0136) with: {'activation': 'softmax', 'dropout_rate': 0.2, 'optimizer': 'RMSprop'}\n",
      "0.7571 (+- 0.0136) with: {'activation': 'softmax', 'dropout_rate': 0.2, 'optimizer': 'Adam'}\n",
      "0.7571 (+- 0.0136) with: {'activation': 'softmax', 'dropout_rate': 0.2, 'optimizer': 'Adamax'}\n",
      "0.7571 (+- 0.0136) with: {'activation': 'softmax', 'dropout_rate': 0.2, 'optimizer': 'Nadam'}\n",
      "0.7571 (+- 0.0136) with: {'activation': 'softmax', 'dropout_rate': 0.4, 'optimizer': 'SGD'}\n",
      "0.7571 (+- 0.0136) with: {'activation': 'softmax', 'dropout_rate': 0.4, 'optimizer': 'RMSprop'}\n",
      "0.7571 (+- 0.0136) with: {'activation': 'softmax', 'dropout_rate': 0.4, 'optimizer': 'Adam'}\n",
      "0.7571 (+- 0.0136) with: {'activation': 'softmax', 'dropout_rate': 0.4, 'optimizer': 'Adamax'}\n",
      "0.7571 (+- 0.0136) with: {'activation': 'softmax', 'dropout_rate': 0.4, 'optimizer': 'Nadam'}\n",
      "0.7571 (+- 0.0136) with: {'activation': 'softmax', 'dropout_rate': 0.6, 'optimizer': 'SGD'}\n",
      "0.7571 (+- 0.0136) with: {'activation': 'softmax', 'dropout_rate': 0.6, 'optimizer': 'RMSprop'}\n",
      "0.7571 (+- 0.0136) with: {'activation': 'softmax', 'dropout_rate': 0.6, 'optimizer': 'Adam'}\n",
      "0.7571 (+- 0.0136) with: {'activation': 'softmax', 'dropout_rate': 0.6, 'optimizer': 'Adamax'}\n",
      "0.7571 (+- 0.0136) with: {'activation': 'softmax', 'dropout_rate': 0.6, 'optimizer': 'Nadam'}\n",
      "0.7571 (+- 0.0136) with: {'activation': 'softmax', 'dropout_rate': 0.8, 'optimizer': 'SGD'}\n",
      "0.7571 (+- 0.0136) with: {'activation': 'softmax', 'dropout_rate': 0.8, 'optimizer': 'RMSprop'}\n",
      "0.7571 (+- 0.0136) with: {'activation': 'softmax', 'dropout_rate': 0.8, 'optimizer': 'Adam'}\n",
      "0.7571 (+- 0.0136) with: {'activation': 'softmax', 'dropout_rate': 0.8, 'optimizer': 'Adamax'}\n",
      "0.7571 (+- 0.0136) with: {'activation': 'softmax', 'dropout_rate': 0.8, 'optimizer': 'Nadam'}\n",
      "0.7571 (+- 0.0136) with: {'activation': 'softplus', 'dropout_rate': 0.0, 'optimizer': 'SGD'}\n",
      "0.7596 (+- 0.0158) with: {'activation': 'softplus', 'dropout_rate': 0.0, 'optimizer': 'RMSprop'}\n",
      "0.7633 (+- 0.0163) with: {'activation': 'softplus', 'dropout_rate': 0.0, 'optimizer': 'Adam'}\n",
      "0.7596 (+- 0.0131) with: {'activation': 'softplus', 'dropout_rate': 0.0, 'optimizer': 'Adamax'}\n",
      "0.7658 (+- 0.0160) with: {'activation': 'softplus', 'dropout_rate': 0.0, 'optimizer': 'Nadam'}\n",
      "0.7571 (+- 0.0136) with: {'activation': 'softplus', 'dropout_rate': 0.2, 'optimizer': 'SGD'}\n",
      "0.7617 (+- 0.0149) with: {'activation': 'softplus', 'dropout_rate': 0.2, 'optimizer': 'RMSprop'}\n",
      "0.7604 (+- 0.0192) with: {'activation': 'softplus', 'dropout_rate': 0.2, 'optimizer': 'Adam'}\n",
      "0.7571 (+- 0.0136) with: {'activation': 'softplus', 'dropout_rate': 0.2, 'optimizer': 'Adamax'}\n",
      "0.7661 (+- 0.0162) with: {'activation': 'softplus', 'dropout_rate': 0.2, 'optimizer': 'Nadam'}\n",
      "0.7571 (+- 0.0136) with: {'activation': 'softplus', 'dropout_rate': 0.4, 'optimizer': 'SGD'}\n",
      "0.7571 (+- 0.0136) with: {'activation': 'softplus', 'dropout_rate': 0.4, 'optimizer': 'RMSprop'}\n",
      "0.7570 (+- 0.0136) with: {'activation': 'softplus', 'dropout_rate': 0.4, 'optimizer': 'Adam'}\n",
      "0.7571 (+- 0.0136) with: {'activation': 'softplus', 'dropout_rate': 0.4, 'optimizer': 'Adamax'}\n",
      "0.7594 (+- 0.0150) with: {'activation': 'softplus', 'dropout_rate': 0.4, 'optimizer': 'Nadam'}\n",
      "0.7571 (+- 0.0136) with: {'activation': 'softplus', 'dropout_rate': 0.6, 'optimizer': 'SGD'}\n",
      "0.7571 (+- 0.0136) with: {'activation': 'softplus', 'dropout_rate': 0.6, 'optimizer': 'RMSprop'}\n",
      "0.7571 (+- 0.0136) with: {'activation': 'softplus', 'dropout_rate': 0.6, 'optimizer': 'Adam'}\n",
      "0.7571 (+- 0.0136) with: {'activation': 'softplus', 'dropout_rate': 0.6, 'optimizer': 'Adamax'}\n",
      "0.7573 (+- 0.0139) with: {'activation': 'softplus', 'dropout_rate': 0.6, 'optimizer': 'Nadam'}\n",
      "0.7571 (+- 0.0136) with: {'activation': 'softplus', 'dropout_rate': 0.8, 'optimizer': 'SGD'}\n",
      "0.7571 (+- 0.0136) with: {'activation': 'softplus', 'dropout_rate': 0.8, 'optimizer': 'RMSprop'}\n",
      "0.7571 (+- 0.0136) with: {'activation': 'softplus', 'dropout_rate': 0.8, 'optimizer': 'Adam'}\n",
      "0.7571 (+- 0.0136) with: {'activation': 'softplus', 'dropout_rate': 0.8, 'optimizer': 'Adamax'}\n",
      "0.7571 (+- 0.0136) with: {'activation': 'softplus', 'dropout_rate': 0.8, 'optimizer': 'Nadam'}\n",
      "0.7571 (+- 0.0136) with: {'activation': 'softsign', 'dropout_rate': 0.0, 'optimizer': 'SGD'}\n",
      "0.7611 (+- 0.0081) with: {'activation': 'softsign', 'dropout_rate': 0.0, 'optimizer': 'RMSprop'}\n",
      "0.7652 (+- 0.0141) with: {'activation': 'softsign', 'dropout_rate': 0.0, 'optimizer': 'Adam'}\n",
      "0.7631 (+- 0.0135) with: {'activation': 'softsign', 'dropout_rate': 0.0, 'optimizer': 'Adamax'}\n",
      "0.7673 (+- 0.0136) with: {'activation': 'softsign', 'dropout_rate': 0.0, 'optimizer': 'Nadam'}\n",
      "0.7571 (+- 0.0136) with: {'activation': 'softsign', 'dropout_rate': 0.2, 'optimizer': 'SGD'}\n",
      "0.7606 (+- 0.0117) with: {'activation': 'softsign', 'dropout_rate': 0.2, 'optimizer': 'RMSprop'}\n",
      "0.7639 (+- 0.0170) with: {'activation': 'softsign', 'dropout_rate': 0.2, 'optimizer': 'Adam'}\n",
      "0.7649 (+- 0.0141) with: {'activation': 'softsign', 'dropout_rate': 0.2, 'optimizer': 'Adamax'}\n",
      "0.7681 (+- 0.0140) with: {'activation': 'softsign', 'dropout_rate': 0.2, 'optimizer': 'Nadam'}\n",
      "0.7571 (+- 0.0136) with: {'activation': 'softsign', 'dropout_rate': 0.4, 'optimizer': 'SGD'}\n",
      "0.7615 (+- 0.0141) with: {'activation': 'softsign', 'dropout_rate': 0.4, 'optimizer': 'RMSprop'}\n",
      "0.7601 (+- 0.0163) with: {'activation': 'softsign', 'dropout_rate': 0.4, 'optimizer': 'Adam'}\n",
      "0.7660 (+- 0.0151) with: {'activation': 'softsign', 'dropout_rate': 0.4, 'optimizer': 'Adamax'}\n",
      "0.7641 (+- 0.0149) with: {'activation': 'softsign', 'dropout_rate': 0.4, 'optimizer': 'Nadam'}\n",
      "0.7571 (+- 0.0136) with: {'activation': 'softsign', 'dropout_rate': 0.6, 'optimizer': 'SGD'}\n",
      "0.7645 (+- 0.0138) with: {'activation': 'softsign', 'dropout_rate': 0.6, 'optimizer': 'RMSprop'}\n",
      "0.7635 (+- 0.0119) with: {'activation': 'softsign', 'dropout_rate': 0.6, 'optimizer': 'Adam'}\n",
      "0.7646 (+- 0.0164) with: {'activation': 'softsign', 'dropout_rate': 0.6, 'optimizer': 'Adamax'}\n",
      "0.7621 (+- 0.0116) with: {'activation': 'softsign', 'dropout_rate': 0.6, 'optimizer': 'Nadam'}\n",
      "0.7571 (+- 0.0136) with: {'activation': 'softsign', 'dropout_rate': 0.8, 'optimizer': 'SGD'}\n",
      "0.7607 (+- 0.0171) with: {'activation': 'softsign', 'dropout_rate': 0.8, 'optimizer': 'RMSprop'}\n",
      "0.7662 (+- 0.0176) with: {'activation': 'softsign', 'dropout_rate': 0.8, 'optimizer': 'Adam'}\n",
      "0.7614 (+- 0.0160) with: {'activation': 'softsign', 'dropout_rate': 0.8, 'optimizer': 'Adamax'}\n",
      "0.7637 (+- 0.0140) with: {'activation': 'softsign', 'dropout_rate': 0.8, 'optimizer': 'Nadam'}\n",
      "0.7571 (+- 0.0136) with: {'activation': 'relu', 'dropout_rate': 0.0, 'optimizer': 'SGD'}\n",
      "0.7711 (+- 0.0167) with: {'activation': 'relu', 'dropout_rate': 0.0, 'optimizer': 'RMSprop'}\n",
      "0.7792 (+- 0.0163) with: {'activation': 'relu', 'dropout_rate': 0.0, 'optimizer': 'Adam'}\n",
      "0.7680 (+- 0.0076) with: {'activation': 'relu', 'dropout_rate': 0.0, 'optimizer': 'Adamax'}\n",
      "0.8136 (+- 0.0060) with: {'activation': 'relu', 'dropout_rate': 0.0, 'optimizer': 'Nadam'}\n",
      "0.7571 (+- 0.0136) with: {'activation': 'relu', 'dropout_rate': 0.2, 'optimizer': 'SGD'}\n",
      "0.7711 (+- 0.0162) with: {'activation': 'relu', 'dropout_rate': 0.2, 'optimizer': 'RMSprop'}\n",
      "0.7787 (+- 0.0124) with: {'activation': 'relu', 'dropout_rate': 0.2, 'optimizer': 'Adam'}\n",
      "0.7658 (+- 0.0147) with: {'activation': 'relu', 'dropout_rate': 0.2, 'optimizer': 'Adamax'}\n",
      "0.8005 (+- 0.0055) with: {'activation': 'relu', 'dropout_rate': 0.2, 'optimizer': 'Nadam'}\n",
      "0.7571 (+- 0.0136) with: {'activation': 'relu', 'dropout_rate': 0.4, 'optimizer': 'SGD'}\n",
      "0.7692 (+- 0.0167) with: {'activation': 'relu', 'dropout_rate': 0.4, 'optimizer': 'RMSprop'}\n",
      "0.7699 (+- 0.0168) with: {'activation': 'relu', 'dropout_rate': 0.4, 'optimizer': 'Adam'}\n",
      "0.7595 (+- 0.0115) with: {'activation': 'relu', 'dropout_rate': 0.4, 'optimizer': 'Adamax'}\n",
      "0.7958 (+- 0.0073) with: {'activation': 'relu', 'dropout_rate': 0.4, 'optimizer': 'Nadam'}\n",
      "0.7571 (+- 0.0136) with: {'activation': 'relu', 'dropout_rate': 0.6, 'optimizer': 'SGD'}\n",
      "0.7574 (+- 0.0135) with: {'activation': 'relu', 'dropout_rate': 0.6, 'optimizer': 'RMSprop'}\n",
      "0.7590 (+- 0.0152) with: {'activation': 'relu', 'dropout_rate': 0.6, 'optimizer': 'Adam'}\n",
      "0.7571 (+- 0.0136) with: {'activation': 'relu', 'dropout_rate': 0.6, 'optimizer': 'Adamax'}\n",
      "0.7686 (+- 0.0178) with: {'activation': 'relu', 'dropout_rate': 0.6, 'optimizer': 'Nadam'}\n",
      "0.7571 (+- 0.0136) with: {'activation': 'relu', 'dropout_rate': 0.8, 'optimizer': 'SGD'}\n",
      "0.7571 (+- 0.0136) with: {'activation': 'relu', 'dropout_rate': 0.8, 'optimizer': 'RMSprop'}\n",
      "0.7579 (+- 0.0130) with: {'activation': 'relu', 'dropout_rate': 0.8, 'optimizer': 'Adam'}\n",
      "0.7570 (+- 0.0137) with: {'activation': 'relu', 'dropout_rate': 0.8, 'optimizer': 'Adamax'}\n",
      "0.7577 (+- 0.0144) with: {'activation': 'relu', 'dropout_rate': 0.8, 'optimizer': 'Nadam'}\n",
      "0.7576 (+- 0.0143) with: {'activation': 'tanh', 'dropout_rate': 0.0, 'optimizer': 'SGD'}\n",
      "0.7671 (+- 0.0137) with: {'activation': 'tanh', 'dropout_rate': 0.0, 'optimizer': 'RMSprop'}\n",
      "0.7629 (+- 0.0164) with: {'activation': 'tanh', 'dropout_rate': 0.0, 'optimizer': 'Adam'}\n",
      "0.7621 (+- 0.0111) with: {'activation': 'tanh', 'dropout_rate': 0.0, 'optimizer': 'Adamax'}\n",
      "0.7700 (+- 0.0132) with: {'activation': 'tanh', 'dropout_rate': 0.0, 'optimizer': 'Nadam'}\n",
      "0.7568 (+- 0.0137) with: {'activation': 'tanh', 'dropout_rate': 0.2, 'optimizer': 'SGD'}\n",
      "0.7635 (+- 0.0142) with: {'activation': 'tanh', 'dropout_rate': 0.2, 'optimizer': 'RMSprop'}\n",
      "0.7669 (+- 0.0137) with: {'activation': 'tanh', 'dropout_rate': 0.2, 'optimizer': 'Adam'}\n",
      "0.7639 (+- 0.0155) with: {'activation': 'tanh', 'dropout_rate': 0.2, 'optimizer': 'Adamax'}\n",
      "0.7674 (+- 0.0106) with: {'activation': 'tanh', 'dropout_rate': 0.2, 'optimizer': 'Nadam'}\n",
      "0.7570 (+- 0.0136) with: {'activation': 'tanh', 'dropout_rate': 0.4, 'optimizer': 'SGD'}\n",
      "0.7662 (+- 0.0135) with: {'activation': 'tanh', 'dropout_rate': 0.4, 'optimizer': 'RMSprop'}\n",
      "0.7641 (+- 0.0137) with: {'activation': 'tanh', 'dropout_rate': 0.4, 'optimizer': 'Adam'}\n",
      "0.7607 (+- 0.0092) with: {'activation': 'tanh', 'dropout_rate': 0.4, 'optimizer': 'Adamax'}\n",
      "0.7614 (+- 0.0132) with: {'activation': 'tanh', 'dropout_rate': 0.4, 'optimizer': 'Nadam'}\n",
      "0.7571 (+- 0.0141) with: {'activation': 'tanh', 'dropout_rate': 0.6, 'optimizer': 'SGD'}\n",
      "0.7612 (+- 0.0144) with: {'activation': 'tanh', 'dropout_rate': 0.6, 'optimizer': 'RMSprop'}\n",
      "0.7588 (+- 0.0073) with: {'activation': 'tanh', 'dropout_rate': 0.6, 'optimizer': 'Adam'}\n",
      "0.7612 (+- 0.0175) with: {'activation': 'tanh', 'dropout_rate': 0.6, 'optimizer': 'Adamax'}\n",
      "0.7618 (+- 0.0123) with: {'activation': 'tanh', 'dropout_rate': 0.6, 'optimizer': 'Nadam'}\n",
      "0.7570 (+- 0.0136) with: {'activation': 'tanh', 'dropout_rate': 0.8, 'optimizer': 'SGD'}\n",
      "0.7649 (+- 0.0175) with: {'activation': 'tanh', 'dropout_rate': 0.8, 'optimizer': 'RMSprop'}\n",
      "0.7643 (+- 0.0159) with: {'activation': 'tanh', 'dropout_rate': 0.8, 'optimizer': 'Adam'}\n",
      "0.7624 (+- 0.0160) with: {'activation': 'tanh', 'dropout_rate': 0.8, 'optimizer': 'Adamax'}\n",
      "0.7624 (+- 0.0141) with: {'activation': 'tanh', 'dropout_rate': 0.8, 'optimizer': 'Nadam'}\n"
     ]
    }
   ],
   "source": [
    "# NOTE: this cell train 375 models, and it takes approx 1 sec for each\n",
    "# Hence it takes 10 or so minutes to give results\n",
    "\n",
    "# Call Keras scikit wrapper\n",
    "model_gridsearch = KerasClassifier(build_fn=create_model, \n",
    "                        epochs=1, \n",
    "                        batch_size=batch_size, \n",
    "                        verbose=0)\n",
    "\n",
    "# List of allowed optional arguments for the optimizer, see `create_model()`\n",
    "optimizer = ['SGD', 'RMSprop', 'Adam', 'Adamax', 'Nadam']\n",
    "activation = ['softmax', 'softplus', 'softsign', 'relu', 'tanh']\n",
    "dropout_rate = [0.0, 0.2, 0.4, 0.6, 0.8]\n",
    "# define parameters' dictionary\n",
    "param_grid = dict(optimizer=optimizer, activation=activation, \n",
    "                  dropout_rate=dropout_rate) \n",
    "\n",
    "# Call scikit GridSearch module\n",
    "# n_jobs = number of threads to implement in the computation\n",
    "# cv = k in the k-fold cross-validation\n",
    "# the number of model tested is (# of hyperpar to test)*(k for the k-fold cross-val)\n",
    "grid = GridSearchCV(estimator = model_gridsearch, \n",
    "                    param_grid = param_grid, n_jobs=1, cv=3)\n",
    "grid_result = grid.fit(x_all,y)\n",
    "\n",
    "# Summarize results\n",
    "print(\"Best: {} using {}\".format(grid_result.best_score_, grid_result.best_params_) )\n",
    "means = grid_result.cv_results_['mean_test_score']\n",
    "stds = grid_result.cv_results_['std_test_score']\n",
    "params = grid_result.cv_results_['params']\n",
    "for mean, stdev, param in zip(means, stds, params):\n",
    "    print(\"{:.4f} (+- {:.4f}) with: {}\".format(mean, stdev, param))\n"
   ]
  },
  {
   "cell_type": "markdown",
   "metadata": {},
   "source": [
    "### Trainig post-GridSearch"
   ]
  },
  {
   "cell_type": "code",
   "execution_count": 37,
   "metadata": {
    "collapsed": true,
    "jupyter": {
     "outputs_hidden": true
    }
   },
   "outputs": [
    {
     "name": "stdout",
     "output_type": "stream",
     "text": [
      "Train on 14280 samples, validate on 2520 samples\n",
      "Epoch 1/20\n",
      "14280/14280 [==============================] - 2s 150us/step - loss: 0.4439 - accuracy: 0.7887 - val_loss: 0.3569 - val_accuracy: 0.8202\n",
      "Epoch 2/20\n",
      "14280/14280 [==============================] - 1s 80us/step - loss: 0.2487 - accuracy: 0.8888 - val_loss: 0.2298 - val_accuracy: 0.8940\n",
      "Epoch 3/20\n",
      "14280/14280 [==============================] - 2s 140us/step - loss: 0.1781 - accuracy: 0.9228 - val_loss: 0.2021 - val_accuracy: 0.9159\n",
      "Epoch 4/20\n",
      "14280/14280 [==============================] - 2s 114us/step - loss: 0.1575 - accuracy: 0.9336 - val_loss: 0.2040 - val_accuracy: 0.9099\n",
      "Epoch 5/20\n",
      "14280/14280 [==============================] - 1s 88us/step - loss: 0.1427 - accuracy: 0.9414 - val_loss: 0.2161 - val_accuracy: 0.9107\n",
      "Epoch 6/20\n",
      "14280/14280 [==============================] - 1s 79us/step - loss: 0.1357 - accuracy: 0.9438 - val_loss: 0.2136 - val_accuracy: 0.9091\n",
      "Epoch 7/20\n",
      "14280/14280 [==============================] - 2s 139us/step - loss: 0.1297 - accuracy: 0.9467 - val_loss: 0.2311 - val_accuracy: 0.9032\n",
      "Epoch 8/20\n",
      "14280/14280 [==============================] - 2s 142us/step - loss: 0.1220 - accuracy: 0.9511 - val_loss: 0.2170 - val_accuracy: 0.9143\n",
      "Epoch 9/20\n",
      "14280/14280 [==============================] - 2s 115us/step - loss: 0.1154 - accuracy: 0.9531 - val_loss: 0.2497 - val_accuracy: 0.9052\n",
      "Epoch 10/20\n",
      "14280/14280 [==============================] - 2s 122us/step - loss: 0.1073 - accuracy: 0.9581 - val_loss: 0.2563 - val_accuracy: 0.9052\n",
      "Epoch 11/20\n",
      "14280/14280 [==============================] - 1s 99us/step - loss: 0.1019 - accuracy: 0.9599 - val_loss: 0.2714 - val_accuracy: 0.8972\n",
      "Epoch 12/20\n",
      "14280/14280 [==============================] - 2s 119us/step - loss: 0.0944 - accuracy: 0.9644 - val_loss: 0.2622 - val_accuracy: 0.9044\n",
      "Epoch 13/20\n",
      "14280/14280 [==============================] - 2s 108us/step - loss: 0.0894 - accuracy: 0.9663 - val_loss: 0.2706 - val_accuracy: 0.9052\n",
      "Epoch 14/20\n",
      "14280/14280 [==============================] - 1s 103us/step - loss: 0.0819 - accuracy: 0.9690 - val_loss: 0.2974 - val_accuracy: 0.9008\n",
      "Epoch 15/20\n",
      "14280/14280 [==============================] - 2s 107us/step - loss: 0.0747 - accuracy: 0.9714 - val_loss: 0.3488 - val_accuracy: 0.8933\n",
      "Epoch 16/20\n",
      "14280/14280 [==============================] - 2s 108us/step - loss: 0.0711 - accuracy: 0.9733 - val_loss: 0.3367 - val_accuracy: 0.8921\n",
      "Epoch 17/20\n",
      "14280/14280 [==============================] - 2s 106us/step - loss: 0.0650 - accuracy: 0.9746 - val_loss: 0.3267 - val_accuracy: 0.9012\n",
      "Epoch 18/20\n",
      "14280/14280 [==============================] - 1s 103us/step - loss: 0.0603 - accuracy: 0.9777 - val_loss: 0.3739 - val_accuracy: 0.9004\n",
      "Epoch 19/20\n",
      "14280/14280 [==============================] - 1s 85us/step - loss: 0.0555 - accuracy: 0.9802 - val_loss: 0.3991 - val_accuracy: 0.8960\n",
      "Epoch 20/20\n",
      "14280/14280 [==============================] - 1s 67us/step - loss: 0.0537 - accuracy: 0.9798 - val_loss: 0.3712 - val_accuracy: 0.9020\n"
     ]
    }
   ],
   "source": [
    "# Training using the hyperparameters found by GridSearch\n",
    "\n",
    "dnn_post_grid = create_model(activation = 'relu',\n",
    "                            optimizer = keras.optimizers.Nadam(),\n",
    "                            dropout_rate = 0.0)\n",
    "\n",
    "fit_post_grid = dnn_post_grid.fit( x_all[N_val:], y[N_val:], \n",
    "                epochs = 20, batch_size = batch_size,\n",
    "                validation_data=( x_all[0:N_val], y[0:N_val] ))"
   ]
  },
  {
   "cell_type": "code",
   "execution_count": 38,
   "metadata": {},
   "outputs": [
    {
     "data": {
      "text/plain": [
       "<matplotlib.legend.Legend at 0x7f7bf775c490>"
      ]
     },
     "execution_count": 38,
     "metadata": {},
     "output_type": "execute_result"
    },
    {
     "data": {
      "image/png": "[encoded data removed]",
      "text/plain": [
       "<Figure size 432x288 with 1 Axes>"
      ]
     },
     "metadata": {
      "needs_background": "light"
     },
     "output_type": "display_data"
    },
    {
     "data": {
      "image/png": "[encoded data removed]",
      "text/plain": [
       "<Figure size 432x288 with 1 Axes>"
      ]
     },
     "metadata": {
      "needs_background": "light"
     },
     "output_type": "display_data"
    }
   ],
   "source": [
    "# Here we perform a comparison between before and after the \n",
    "# hyperparameters optimization\n",
    "\n",
    "# Accuracy\n",
    "plt.plot(fit.history['accuracy']) # this is on training data\n",
    "plt.plot(fit.history['val_accuracy']) # this is on validation data\n",
    "plt.plot(fit_post_grid.history['accuracy']) # this is on training data\n",
    "plt.plot(fit_post_grid.history['val_accuracy']) # this is on validation data\n",
    "plt.title('Model accuracy')\n",
    "plt.ylabel('Accuracy')\n",
    "plt.xlabel('Epochs')\n",
    "plt.legend(['Train_pre','Val_pre','Train_post','Val_post'])\n",
    "\n",
    "# Loss (i.e. plotting the cross entropy)\n",
    "plt.figure()\n",
    "plt.plot(fit.history['loss']) # this is on training data\n",
    "plt.plot(fit.history['val_loss']) # this is on validation data\n",
    "plt.plot(fit_post_grid.history['loss'])\n",
    "plt.plot(fit_post_grid.history['val_loss'])\n",
    "plt.title('Model loss')\n",
    "plt.ylabel('loss')\n",
    "plt.xlabel('Epochs')\n",
    "plt.legend(['Train_pre','Val_pre','Train_post','Val_post'])"
   ]
  },
  {
   "cell_type": "markdown",
   "metadata": {},
   "source": [
    "Comment: it seems that the optimization of the hyperparameters bring to a similar result or even worst that the original evaluation looking at the loss term."
   ]
  }
 ],
 "metadata": {
  "kernelspec": {
   "display_name": "Python 3",
   "language": "python",
   "name": "python3"
  },
  "language_info": {
   "codemirror_mode": {
    "name": "ipython",
    "version": 3
   },
   "file_extension": ".py",
   "mimetype": "text/x-python",
   "name": "python",
   "nbconvert_exporter": "python",
   "pygments_lexer": "ipython3",
   "version": "3.7.6"
  }
 },
 "nbformat": 4,
 "nbformat_minor": 4
}
