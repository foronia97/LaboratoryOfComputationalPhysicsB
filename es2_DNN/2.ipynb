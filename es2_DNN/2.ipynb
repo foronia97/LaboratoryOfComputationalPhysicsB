{
 "cells": [
  {
   "cell_type": "markdown",
   "metadata": {},
   "source": [
    "# Exercise 2\n",
    "### Deep neural networks with Keras\n",
    "\n",
    "Look at data in the file “secreckeys_exe.csv”, which is placed in the google folder.\n",
    "1. Assuming that there is an invariance of the results with respect to shift of the digits\n",
    "in a data sample (e.g. 1234567 and 7123456 give the same result y=0 or y=1), try\n",
    "to improve the accuracy of the model over the validation data set by “augmenting”\n",
    "the data. In practice, for every sample there are L-1 equivalent ones.\n",
    "2. Implement a “grid search” as shown in NB11 to improve one or more of the aspects\n",
    "or parameters of the model. Possible tests include: different activation units\n",
    "(sigmoid, relu, elu, etc.), different minimization algorithms (adam, rmsprop, sgd with\n",
    "momentum, etc.), different dropouts, etc.\n",
    "3. See if any rescaling of data (x: the sequences of 0 and 1 used to feed the network)\n",
    "may improve the results. "
   ]
  },
  {
   "cell_type": "code",
   "execution_count": 89,
   "metadata": {},
   "outputs": [],
   "source": [
    "import math\n",
    "import csv\n",
    "import numpy as np\n",
    "import numpy.random as npr\n",
    "\n",
    "from keras.models import Sequential\n",
    "from keras.layers import Dense, Dropout"
   ]
  },
  {
   "cell_type": "markdown",
   "metadata": {},
   "source": [
    "## Reading the data"
   ]
  },
  {
   "cell_type": "code",
   "execution_count": 23,
   "metadata": {},
   "outputs": [
    {
     "name": "stdout",
     "output_type": "stream",
     "text": [
      "Length of each string: 7\n",
      "Length of the dataset: 3000 \n",
      "\n",
      "4573627 0\n",
      "9393629 0\n",
      "9334246 0\n",
      "1861971 0\n",
      "5527227 1\n",
      "9614284 0\n",
      "5793135 0\n",
      "6265761 1\n",
      "7731649 1\n",
      "1862956 1\n"
     ]
    }
   ],
   "source": [
    "fname = 'secretkeys_exe.csv'\n",
    "data = np.loadtxt(fname, delimiter = ',', dtype = int)\n",
    "\n",
    "# Digits 1...9\n",
    "D = 9\n",
    "# Length of each numeric string\n",
    "L = len(str(data[0][0]))\n",
    "print(f'Length of each string: {L}')\n",
    "# Length of the dataset\n",
    "N = len(data)\n",
    "print(f'Length of the dataset: {N} \\n')\n",
    "\n",
    "# Selecting data and labels\n",
    "s = data[:,0]\n",
    "y = data[:,-1]\n",
    "\n",
    "# Visualizing some data\n",
    "for i in range(10):\n",
    "    print(s[i], y[i])"
   ]
  },
  {
   "cell_type": "markdown",
   "metadata": {},
   "source": [
    "## Augmentation"
   ]
  },
  {
   "cell_type": "code",
   "execution_count": 81,
   "metadata": {},
   "outputs": [
    {
     "data": {
      "text/plain": [
       "array([1234567, 7123456, 6712345, 5671234, 4567123, 3456712, 2345671])"
      ]
     },
     "execution_count": 81,
     "metadata": {},
     "output_type": "execute_result"
    }
   ],
   "source": [
    "# Function that returns all the permutations of the given number of L = 7 digits\n",
    "\n",
    "def cyclic(n):\n",
    "    # initialiting the list that will contain the permutations\n",
    "    a = []\n",
    "    num = n\n",
    "    while (1): \n",
    "        a.append(int(num)) \n",
    "    \n",
    "        # Following three lines generates a circular permutation of a number. \n",
    "        rem = num % 10; \n",
    "        div = math.floor(num / 10); \n",
    "        num = ((math.pow(10, L - 1)) * rem + div); \n",
    "          \n",
    "        # If all the permutations are checked and we obtain original number exit from loop.  \n",
    "        if (num == n): \n",
    "            break; \n",
    "    return np.array(a, dtype = int)\n",
    "        \n",
    "# See if it works:\n",
    "cyclic(1234567)\n",
    "\n",
    "# References for the cyclic function, from which part of the algorithm was taken: https://www.geeksforgeeks.org/generate-cyclic-permutations-number/"
   ]
  },
  {
   "cell_type": "code",
   "execution_count": 82,
   "metadata": {},
   "outputs": [
    {
     "name": "stdout",
     "output_type": "stream",
     "text": [
      "[[4573627 7457362 2745736 6274573 3627457 7362745 5736274]\n",
      " [9393629 9939362 2993936 6299393 3629939 9362993 3936299]\n",
      " [9334246 6933424 4693342 2469334 4246933 3424693 3342469]\n",
      " [1861971 1186197 7118619 9711861 1971186 6197118 8619711]\n",
      " [5527227 7552722 2755272 2275527 7227552 2722755 5272275]]\n",
      "[[0 0 0 0 0 0 0]\n",
      " [0 0 0 0 0 0 0]\n",
      " [0 0 0 0 0 0 0]\n",
      " [0 0 0 0 0 0 0]\n",
      " [1 1 1 1 1 1 1]] \n",
      "\n",
      "[4573627 7457362 2745736 6274573 3627457 7362745 5736274 9393629 9939362\n",
      " 2993936 6299393 3629939 9362993 3936299 9334246 6933424 4693342 2469334\n",
      " 4246933 3424693 3342469 1861971 1186197 7118619 9711861 1971186 6197118\n",
      " 8619711 5527227 7552722]\n",
      "[0 0 0 0 0 0 0 0 0 0 0 0 0 0 0 0 0 0 0 0 0 0 0 0 0 0 0 0 1 1] \n",
      "\n"
     ]
    }
   ],
   "source": [
    "# Adding the permuted data to the initial dataset\n",
    "\n",
    "# Initializing the empty array\n",
    "aug_s = np.empty((len(s), L), dtype = int) # each row will contain all the permutations of the original data\n",
    "aug_y = np.empty((len(s), L), dtype = int)\n",
    "for i in range(len(s)):\n",
    "    aug_s[i, :] = cyclic(s[i])\n",
    "    aug_y[i, :] = y[i]\n",
    "\n",
    "# print the first 5 rows to see if everything's ok\n",
    "print(aug_s[0:5])\n",
    "print(aug_y[0:5], '\\n')\n",
    "\n",
    "# reshaping the data by flattening the arrays\n",
    "aug_s = aug_s.reshape(len(s)*L)\n",
    "aug_y = aug_y.reshape(len(s)*L)\n",
    "\n",
    "# print the first 30 rows to see if everything's ok\n",
    "print(aug_s[0:30])\n",
    "print(aug_y[0:30], '\\n')"
   ]
  },
  {
   "cell_type": "code",
   "execution_count": 91,
   "metadata": {},
   "outputs": [
    {
     "name": "stdout",
     "output_type": "stream",
     "text": [
      "[[7677348       0]\n",
      " [5821559       0]\n",
      " [3869821       0]\n",
      " ...\n",
      " [9414168       0]\n",
      " [1521389       0]\n",
      " [8491721       0]]\n"
     ]
    }
   ],
   "source": [
    "# Shuffling the data after being certain to maintain the respective correlation between s and y:\n",
    "# aug_data merges data and label\n",
    "aug_data = np.empty((len(s)*L, 2), dtype = int)\n",
    "for i in range(len(aug_s)):\n",
    "    aug_data[i, :] = np.array([aug_s[i], aug_y[i]], dtype = int)\n",
    "\n",
    "# to check everything is ok\n",
    "#print(aug_data)\n",
    "\n",
    "# Shuffing data: this shuffles only the rows, that is what we wanted\n",
    "npr.shuffle(aug_data)\n",
    "print(aug_data)"
   ]
  },
  {
   "cell_type": "code",
   "execution_count": 112,
   "metadata": {},
   "outputs": [],
   "source": [
    "#Going back to data and labels array:\n",
    "s = aug_data[:, 0]\n",
    "y = aug_data[:, 1]"
   ]
  },
  {
   "cell_type": "markdown",
   "metadata": {},
   "source": [
    "### Using Categories: expand function"
   ]
  },
  {
   "cell_type": "code",
   "execution_count": 105,
   "metadata": {},
   "outputs": [
    {
     "name": "stdout",
     "output_type": "stream",
     "text": [
      "7677348 ----> [0 0 0 0 0 0 1 0 0 0 0 0 0 0 1 0 0 0 0 0 0 0 0 0 1 0 0 0 0 0 0 0 0 1 0 0 0\n",
      " 0 1 0 0 0 0 0 0 0 0 0 1 0 0 0 0 0 0 0 0 0 0 0 0 1 0]\n"
     ]
    }
   ],
   "source": [
    "# Selecting categories using the function \"expand\", as in lecture 2 by Baiesi. It's actually the same function of Baiesi but it returns a np.array\n",
    "# For instance, 1 -----> 1000000, 2------> 0100000, etc...\n",
    "LD = L*D #that's the true dimension of a given datasample that we're going to use in a given NN\n",
    "\n",
    "def expand(S):\n",
    "    # If error from beginning\n",
    "    if len(str(S))!=L:\n",
    "        print('Mismatch!')\n",
    "        return []\n",
    "    # If all good:\n",
    "    x = [0] * LD\n",
    "    p = 10**(L-1)\n",
    "    j = 0\n",
    "    while j < L:\n",
    "        q = int(S/p)\n",
    "        x[j*D + (q-1)] = 1 \n",
    "        j += 1\n",
    "        S = S - q*p \n",
    "        p = int(p/10) \n",
    "    return np.array(x, dtype = int) \n",
    "\n",
    "print(s[0], '---->', expand(s[0]))"
   ]
  },
  {
   "cell_type": "markdown",
   "metadata": {},
   "source": [
    "## Split training and test data"
   ]
  },
  {
   "cell_type": "code",
   "execution_count": 120,
   "metadata": {},
   "outputs": [
    {
     "name": "stdout",
     "output_type": "stream",
     "text": [
      "Length of the augmented dataset: 21000 \n",
      "\n",
      "data: 21000 \n",
      "#train: 16800 \n",
      "\n",
      "x_all[0] --->  [0. 0. 0. 0. 0. 0. 1. 0. 0. 0. 0. 0. 0. 0. 1. 0. 0. 0. 0. 0. 0. 0. 0. 0.\n",
      " 1. 0. 0. 0. 0. 0. 0. 0. 0. 1. 0. 0. 0. 0. 1. 0. 0. 0. 0. 0. 0. 0. 0. 0.\n",
      " 1. 0. 0. 0. 0. 0. 0. 0. 0. 0. 0. 0. 0. 1. 0.] \n",
      "\n",
      "#train =  16800 \n",
      "#test = 4200\n"
     ]
    }
   ],
   "source": [
    "# Length of the augmented dataset\n",
    "N = len(s)\n",
    "print(f'Length of the augmented dataset: {N} \\n')\n",
    "\n",
    "# Fraction of training data (the remaining will be validation test -we merge them today-)\n",
    "perc_train = 0.8\n",
    "N_train = int(perc_train * N)\n",
    "print(f'data: {N} \\n#train: {N_train} \\n')\n",
    "\n",
    "x_all = np.empty((N, L*D))\n",
    "for i in range(N):\n",
    "    x_all[i] = expand(s[i])\n",
    "print('x_all[0] ---> ',x_all[0], '\\n')\n",
    "\n",
    "x_train, y_train = (x_all[0:N_train], y[0:N_train])\n",
    "x_test, y_test = (x_all[N_train:], y[N_train:])\n",
    "\n",
    "print('#train = ',len (x_train), '\\n#test =', len(x_test))"
   ]
  },
  {
   "cell_type": "code",
   "execution_count": null,
   "metadata": {},
   "outputs": [],
   "source": []
  }
 ],
 "metadata": {
  "kernelspec": {
   "display_name": "Python 3",
   "language": "python",
   "name": "python3"
  },
  "language_info": {
   "codemirror_mode": {
    "name": "ipython",
    "version": 3
   },
   "file_extension": ".py",
   "mimetype": "text/x-python",
   "name": "python",
   "nbconvert_exporter": "python",
   "pygments_lexer": "ipython3",
   "version": "3.6.10"
  }
 },
 "nbformat": 4,
 "nbformat_minor": 4
}
